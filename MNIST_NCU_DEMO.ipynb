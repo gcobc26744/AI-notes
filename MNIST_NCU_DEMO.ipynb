{
  "nbformat": 4,
  "nbformat_minor": 0,
  "metadata": {
    "colab": {
      "provenance": [],
      "include_colab_link": true
    },
    "kernelspec": {
      "display_name": "Python 3",
      "name": "python3"
    },
    "accelerator": "GPU"
  },
  "cells": [
    {
      "cell_type": "markdown",
      "metadata": {
        "id": "view-in-github",
        "colab_type": "text"
      },
      "source": [
        "<a href=\"https://colab.research.google.com/github/gcobc26744/AI-notes/blob/main/MNIST_NCU_DEMO.ipynb\" target=\"_parent\"><img src=\"https://colab.research.google.com/assets/colab-badge.svg\" alt=\"Open In Colab\"/></a>"
      ]
    },
    {
      "cell_type": "markdown",
      "metadata": {
        "id": "5Wu5QDnMdGHT"
      },
      "source": [
        "# DEMO1 CNN Classification\n",
        "\n",
        "* 資料集: [MNIST](http://yann.lecun.com/exdb/mnist/)\n",
        "* 參考 : https://keras.io/examples/vision/mnist_convnet/\n",
        "\n",
        "深度學習在訓練模型上有以下幾個重要的步驟:\n",
        "1. 讀入相關封包\n",
        "2. 取得資料集\n",
        "3. 資料前處理\n",
        "4. 建立模型\n",
        "5. 制定訓練計畫\n",
        "6. 評估模型\n",
        "\n",
        "根據以上步驟，我們來訓練一個簡單的手寫數字辨識模型"
      ]
    },
    {
      "cell_type": "markdown",
      "metadata": {
        "id": "nWimLfgD-wml"
      },
      "source": [
        "## 1. 讀入封包\n",
        "\n",
        "深度學習一般目前市場上常見的有tensorflow、keras、pytorch。本次Demo使用keras，keras是一個簡單好用的模型訓練工具。能夠幫助初學者省去很多在訓練上的細節，使機器學習更加快速、好上手。"
      ]
    },
    {
      "cell_type": "code",
      "metadata": {
        "id": "p67polXYY-Rs"
      },
      "source": [
        "import numpy as np\n",
        "from tensorflow import keras\n",
        "from tensorflow.keras import layers\n",
        "import cv2\n",
        "import matplotlib.pyplot as plt"
      ],
      "execution_count": null,
      "outputs": []
    },
    {
      "cell_type": "markdown",
      "metadata": {
        "id": "9-liSL35-295"
      },
      "source": [
        "## 2. 取得資料集\n",
        "\n",
        "* 由keras內部method可以線上取得MNIST的資料集。並且已經自動分離出了訓練用與測試用的資料集。\n",
        "* x_train是一個包含60000張圖片，每一張圖片為28X28的手寫灰階圖片。(灰階圖片指圖片沒有RGB通道，每一個pixel為0\\~255 白\\~黑)\n",
        "* x_train要預測的是y_train的60000個對應標籤，分別是當前對應圖片的0~9數字。因此共十個class。"
      ]
    },
    {
      "cell_type": "code",
      "metadata": {
        "colab": {
          "base_uri": "https://localhost:8080/"
        },
        "id": "-edJLft8ZGIP",
        "outputId": "2cc182db-f569-4b43-c904-e5820851d0e2"
      },
      "source": [
        "num_classes = 10\n",
        "\n",
        "(x_train, y_train), (x_test, y_test) = keras.datasets.mnist.load_data()\n",
        "\n",
        "print(\"x_train shape : \",x_train.shape)\n",
        "print(\"y_train shape : \",y_train.shape)\n",
        "print(\"-\"*20)\n",
        "print(\"x_test shape : \",x_test.shape)\n",
        "print(\"y_test shape : \",y_test.shape)"
      ],
      "execution_count": null,
      "outputs": [
        {
          "output_type": "stream",
          "text": [
            "Downloading data from https://storage.googleapis.com/tensorflow/tf-keras-datasets/mnist.npz\n",
            "11493376/11490434 [==============================] - 0s 0us/step\n",
            "x_train shape :  (60000, 28, 28)\n",
            "y_train shape :  (60000,)\n",
            "--------------------\n",
            "x_test shape :  (10000, 28, 28)\n",
            "y_test shape :  (10000,)\n"
          ],
          "name": "stdout"
        }
      ]
    },
    {
      "cell_type": "markdown",
      "metadata": {
        "id": "CW6upPQN-73h"
      },
      "source": [
        "* 我們可以實際將這些圖片印出來看看"
      ]
    },
    {
      "cell_type": "code",
      "metadata": {
        "colab": {
          "base_uri": "https://localhost:8080/",
          "height": 591
        },
        "id": "EHbD-G0BZa65",
        "outputId": "9f2b8157-64c7-4703-9e37-979e185d8efb"
      },
      "source": [
        "# 印出來看看\n",
        "plt.figure(figsize=(10, 10))\n",
        "for i in range(16):\n",
        "    img = x_train[i]\n",
        "    plt.subplot(4,4,i+1)\n",
        "    plt.imshow(img,cmap ='gray')\n",
        "    plt.title(\"label is : {}\".format(y_train[i]))\n",
        "    plt.axis(\"off\")"
      ],
      "execution_count": null,
      "outputs": [
        {
          "output_type": "display_data",
          "data": {
            "image/png": "[encoded data removed]",
            "text/plain": [
              "<Figure size 720x720 with 16 Axes>"
            ]
          },
          "metadata": {
            "tags": [],
            "needs_background": "light"
          }
        }
      ]
    },
    {
      "cell_type": "markdown",
      "metadata": {
        "id": "Kkp4q5_N-9LP"
      },
      "source": [
        "## 3. 資料前處理\n",
        "\n",
        "* 可以知道一張圖片的維度是(28,28)，但是實際輸入模型的維度是(28,28,1)。灰階圖片少了channel，所以我們要拓展維度 (作為channel)\n",
        "\n",
        "* 然後我們要把圖片pixel 自 [0,255] --> [0,1] ，讓深度學習在矩陣相乘時不會因為數值相乘太大而很難訓練。"
      ]
    },
    {
      "cell_type": "code",
      "metadata": {
        "colab": {
          "base_uri": "https://localhost:8080/"
        },
        "id": "pWB73V1FZbzy",
        "outputId": "b4af04fe-7f07-435b-d48f-34ed852cbdf6"
      },
      "source": [
        "# expand dim\n",
        "x_train = np.expand_dims(x_train, -1)\n",
        "x_test = np.expand_dims(x_test, -1)\n",
        "\n",
        "print(\"x_train shape : \",x_train.shape)\n",
        "print(\"x_test shape : \",x_test.shape)\n",
        "\n",
        "# scale the range\n",
        "x_train = x_train.astype(\"float32\")/255\n",
        "x_test = x_test.astype(\"float32\")/255"
      ],
      "execution_count": null,
      "outputs": [
        {
          "output_type": "stream",
          "text": [
            "x_train shape :  (60000, 28, 28, 1)\n",
            "x_test shape :  (10000, 28, 28, 1)\n"
          ],
          "name": "stdout"
        }
      ]
    },
    {
      "cell_type": "markdown",
      "metadata": {
        "id": "O_nn6bEe_AmR"
      },
      "source": [
        "- 然後要把label轉為one-hot。因為我們預期模型訓練是\n",
        "    - 輸入: (28,28,1) 的圖片\n",
        "    - 輸出: (10,) 的機率\n",
        "    \n",
        "    \n",
        "- 打個比方:\n",
        "    - ![](https://i.imgur.com/aCYEeRB.png)\n",
        "    - 所以我們需要將label轉成one-hot 格式"
      ]
    },
    {
      "cell_type": "code",
      "metadata": {
        "colab": {
          "base_uri": "https://localhost:8080/"
        },
        "id": "Wu9rzxSyZI7n",
        "outputId": "f1920b77-875b-4620-d1aa-4220ee4573a7"
      },
      "source": [
        "train_label = keras.utils.to_categorical(y_train, num_classes)\n",
        "test_label = keras.utils.to_categorical(y_test, num_classes)\n",
        "\n",
        "for i in range(10):\n",
        "    print(y_train[i],\" ---> \",train_label[i])"
      ],
      "execution_count": null,
      "outputs": [
        {
          "output_type": "stream",
          "text": [
            "5  --->  [0. 0. 0. 0. 0. 1. 0. 0. 0. 0.]\n",
            "0  --->  [1. 0. 0. 0. 0. 0. 0. 0. 0. 0.]\n",
            "4  --->  [0. 0. 0. 0. 1. 0. 0. 0. 0. 0.]\n",
            "1  --->  [0. 1. 0. 0. 0. 0. 0. 0. 0. 0.]\n",
            "9  --->  [0. 0. 0. 0. 0. 0. 0. 0. 0. 1.]\n",
            "2  --->  [0. 0. 1. 0. 0. 0. 0. 0. 0. 0.]\n",
            "1  --->  [0. 1. 0. 0. 0. 0. 0. 0. 0. 0.]\n",
            "3  --->  [0. 0. 0. 1. 0. 0. 0. 0. 0. 0.]\n",
            "1  --->  [0. 1. 0. 0. 0. 0. 0. 0. 0. 0.]\n",
            "4  --->  [0. 0. 0. 0. 1. 0. 0. 0. 0. 0.]\n"
          ],
          "name": "stdout"
        }
      ]
    },
    {
      "cell_type": "markdown",
      "metadata": {
        "id": "7NUZj_cO_CBh"
      },
      "source": [
        "## 4. 建立模型\n",
        "\n",
        "我們本次建立的模型CNN，由Convolution層與Fully Connection層組成\n",
        "\n",
        "#### **對Keras來說**\n",
        "\n",
        "1. 一張圖片通過**Conv**後維度計算: [keras Conv](https://keras.io/api/layers/convolution_layers/convolution2d/)\n",
        "* 默認stride:(1,1)\n",
        "* 默認padding = None\n",
        "* Input: $(N,H_{in},W_{in},C_{in})$\n",
        "* Output: $(N,H_{out},W_{out},C_{out})$\n",
        "* $H_{out} =\\frac{[H_{in}+2*padding-kernal]}{stride} +1$\n",
        "* $W_{out} =\\frac{[W_{in}+2*padding-kernal]}{stride} +1$\n",
        "\n",
        "> E.g.\n",
        ">\n",
        "> input: **(32,28,28,3)**\n",
        ">\n",
        "> kernel: 3,padding=0,stride=1,filters=32\n",
        ">\n",
        "> $(28-2*0-3)/1 + 1 = 26$\n",
        ">\n",
        "> output: **(32,26,26,32)**\n",
        "\n",
        "2. 一張圖片通過**MaxPooling**後維度計算:[keras MaxPooling](https://keras.io/api/layers/pooling_layers/max_pooling2d/)\n",
        "* 默認pooing_size:(2,2)\n",
        "* 默認padding : None\n",
        "* 默認stride : pooling_size\n",
        "* Input: $(N,H_{in},W_{in},C_{in})$\n",
        "* Output: $(N,H_{out},W_{out},C_{out})$\n",
        "* $H_{out} =\\frac{[H_{in}+2*padding-poolingKernel]}{stride} +1$\n",
        "* $W_{out} =\\frac{[W_{in}+2*padding-poolingKernel]}{stride} +1$\n",
        "\n",
        "> E.g.\n",
        ">\n",
        "> input: **(32,26,26,32)**\n",
        ">\n",
        "> kernel:2,padding=0,stride=2\n",
        ">\n",
        "> $(26-2*0-2)/2 + 1 = 13$\n",
        ">\n",
        "> output: **(32,13,13,32)**\n",
        "\n",
        "![](https://i.imgur.com/x6rG5gb.png)"
      ]
    },
    {
      "cell_type": "code",
      "metadata": {
        "colab": {
          "base_uri": "https://localhost:8080/"
        },
        "id": "TIGslMHxZJ8Y",
        "outputId": "5aab6b5b-01da-46fc-f81e-ecb5225fc874"
      },
      "source": [
        "input_shape = (28, 28, 1)\n",
        "\n",
        "model = keras.Sequential(\n",
        "    [\n",
        "        keras.Input(shape=input_shape),\n",
        "        layers.Conv2D(32, kernel_size=(3, 3), activation=\"relu\"),\n",
        "        layers.MaxPooling2D(pool_size=(2, 2)),\n",
        "        layers.Conv2D(64, kernel_size=(3, 3), activation=\"relu\"),\n",
        "        layers.MaxPooling2D(pool_size=(2, 2)),\n",
        "        layers.Flatten(),\n",
        "        layers.Dense(512, activation=\"relu\"),\n",
        "        layers.Dropout(0.5),\n",
        "        layers.Dense(num_classes, activation=\"softmax\"),\n",
        "    ]\n",
        ")\n",
        "\n",
        "model.summary()"
      ],
      "execution_count": null,
      "outputs": [
        {
          "output_type": "stream",
          "text": [
            "Model: \"sequential_1\"\n",
            "_________________________________________________________________\n",
            "Layer (type)                 Output Shape              Param #   \n",
            "=================================================================\n",
            "conv2d_2 (Conv2D)            (None, 26, 26, 32)        320       \n",
            "_________________________________________________________________\n",
            "max_pooling2d_2 (MaxPooling2 (None, 13, 13, 32)        0         \n",
            "_________________________________________________________________\n",
            "conv2d_3 (Conv2D)            (None, 11, 11, 64)        18496     \n",
            "_________________________________________________________________\n",
            "max_pooling2d_3 (MaxPooling2 (None, 5, 5, 64)          0         \n",
            "_________________________________________________________________\n",
            "flatten_1 (Flatten)          (None, 1600)              0         \n",
            "_________________________________________________________________\n",
            "dense_2 (Dense)              (None, 512)               819712    \n",
            "_________________________________________________________________\n",
            "dropout_1 (Dropout)          (None, 512)               0         \n",
            "_________________________________________________________________\n",
            "dense_3 (Dense)              (None, 10)                5130      \n",
            "=================================================================\n",
            "Total params: 843,658\n",
            "Trainable params: 843,658\n",
            "Non-trainable params: 0\n",
            "_________________________________________________________________\n"
          ],
          "name": "stdout"
        }
      ]
    },
    {
      "cell_type": "markdown",
      "metadata": {
        "id": "IEk3wE9Y_EnY"
      },
      "source": [
        "## 5. 制定訓練計畫\n",
        "\n",
        "- 制定訓練計畫包含該如何進行訓練\n",
        "    - batch_size : 因為神經網路其實只是矩陣相乘，我們可以擴大丟入模型的圖片數量，這個就是一次要丟入幾張圖片。\n",
        "    - epochs : 總共要循環幾次所有訓練資料集來訓練模型\n",
        "    - loss : 預測值與真實label之間的差距計算方式\n",
        "    - optimizer : 運練更新模型的方法\n",
        "    - metrics : keras 訓練過程中恆量模型的方法\n",
        "    - validation dataset : 在一開始將training data部分資料剝離，所以模型完全不會偷看到validation data。這部分的資料用來在訓練過程中檢視模型的好壞。\n",
        "    \n",
        "- 訓練步驟\n",
        "    - keras不需要你寫訓練步驟，你只要在model.fit把input資料與true label丟入即可"
      ]
    },
    {
      "cell_type": "code",
      "metadata": {
        "colab": {
          "base_uri": "https://localhost:8080/"
        },
        "id": "4Zbt4RpjZLYo",
        "outputId": "13b9a315-02c0-40d8-8c5a-45e45556bd32"
      },
      "source": [
        "batch_size = 128\n",
        "epochs = 15\n",
        "\n",
        "model.compile(loss=\"categorical_crossentropy\", optimizer=\"adam\", metrics=[\"accuracy\"])\n",
        "\n",
        "history = model.fit(x_train, train_label, batch_size=batch_size, epochs=epochs, validation_split=0.2)"
      ],
      "execution_count": null,
      "outputs": [
        {
          "output_type": "stream",
          "text": [
            "Epoch 1/15\n",
            "375/375 [==============================] - 33s 11ms/step - loss: 0.5026 - accuracy: 0.8494 - val_loss: 0.0647 - val_accuracy: 0.9808\n",
            "Epoch 2/15\n",
            "375/375 [==============================] - 4s 10ms/step - loss: 0.0721 - accuracy: 0.9773 - val_loss: 0.0476 - val_accuracy: 0.9861\n",
            "Epoch 3/15\n",
            "375/375 [==============================] - 4s 10ms/step - loss: 0.0500 - accuracy: 0.9840 - val_loss: 0.0427 - val_accuracy: 0.9883\n",
            "Epoch 4/15\n",
            "375/375 [==============================] - 4s 10ms/step - loss: 0.0380 - accuracy: 0.9878 - val_loss: 0.0387 - val_accuracy: 0.9888\n",
            "Epoch 5/15\n",
            "375/375 [==============================] - 4s 10ms/step - loss: 0.0327 - accuracy: 0.9901 - val_loss: 0.0364 - val_accuracy: 0.9890\n",
            "Epoch 6/15\n",
            "375/375 [==============================] - 4s 10ms/step - loss: 0.0254 - accuracy: 0.9919 - val_loss: 0.0343 - val_accuracy: 0.9910\n",
            "Epoch 7/15\n",
            "375/375 [==============================] - 4s 10ms/step - loss: 0.0207 - accuracy: 0.9939 - val_loss: 0.0352 - val_accuracy: 0.9907\n",
            "Epoch 8/15\n",
            "375/375 [==============================] - 4s 10ms/step - loss: 0.0181 - accuracy: 0.9938 - val_loss: 0.0311 - val_accuracy: 0.9916\n",
            "Epoch 9/15\n",
            "375/375 [==============================] - 4s 10ms/step - loss: 0.0165 - accuracy: 0.9946 - val_loss: 0.0302 - val_accuracy: 0.9927\n",
            "Epoch 10/15\n",
            "375/375 [==============================] - 4s 10ms/step - loss: 0.0151 - accuracy: 0.9949 - val_loss: 0.0313 - val_accuracy: 0.9917\n",
            "Epoch 11/15\n",
            "375/375 [==============================] - 4s 10ms/step - loss: 0.0128 - accuracy: 0.9959 - val_loss: 0.0318 - val_accuracy: 0.9911\n",
            "Epoch 12/15\n",
            "375/375 [==============================] - 4s 10ms/step - loss: 0.0116 - accuracy: 0.9961 - val_loss: 0.0346 - val_accuracy: 0.9922\n",
            "Epoch 13/15\n",
            "375/375 [==============================] - 4s 10ms/step - loss: 0.0109 - accuracy: 0.9966 - val_loss: 0.0357 - val_accuracy: 0.9913\n",
            "Epoch 14/15\n",
            "375/375 [==============================] - 4s 10ms/step - loss: 0.0103 - accuracy: 0.9962 - val_loss: 0.0328 - val_accuracy: 0.9918\n",
            "Epoch 15/15\n",
            "375/375 [==============================] - 4s 10ms/step - loss: 0.0083 - accuracy: 0.9972 - val_loss: 0.0324 - val_accuracy: 0.9916\n"
          ],
          "name": "stdout"
        }
      ]
    },
    {
      "cell_type": "markdown",
      "metadata": {
        "id": "bQUJqgVx_HiM"
      },
      "source": [
        "## 6. 評估模型\n",
        "\n",
        "- 查看訓練過程中的成果\n",
        "    - val accuracy、 loss 與train data相比\n",
        "    - 要是train acc比val acc大很多，train loss比val loss 小很多，則稱為overfitting。模型不夠泛化，太專注於看過的東西了。"
      ]
    },
    {
      "cell_type": "code",
      "metadata": {
        "colab": {
          "base_uri": "https://localhost:8080/",
          "height": 312
        },
        "id": "80YK9etxZNMR",
        "outputId": "cc273506-8587-4dbf-923f-291e8534ac26"
      },
      "source": [
        "print(history.history.keys())\n",
        "\n",
        "plt.plot(history.history['accuracy'])\n",
        "plt.plot(history.history['val_accuracy'])\n",
        "plt.title('model accuracy')\n",
        "plt.ylabel('accuracy')\n",
        "plt.xlabel('epoch')\n",
        "plt.show()"
      ],
      "execution_count": null,
      "outputs": [
        {
          "output_type": "stream",
          "text": [
            "dict_keys(['loss', 'accuracy', 'val_loss', 'val_accuracy'])\n"
          ],
          "name": "stdout"
        },
        {
          "output_type": "display_data",
          "data": {
            "image/png": "[encoded data removed]",
            "text/plain": [
              "<Figure size 432x288 with 1 Axes>"
            ]
          },
          "metadata": {
            "tags": [],
            "needs_background": "light"
          }
        }
      ]
    },
    {
      "cell_type": "code",
      "metadata": {
        "colab": {
          "base_uri": "https://localhost:8080/",
          "height": 295
        },
        "id": "f5X_U38QZpdJ",
        "outputId": "ef68cf62-de7a-4e5a-ae62-3be99616f34f"
      },
      "source": [
        "plt.plot(history.history['loss'])\n",
        "plt.plot(history.history['val_loss'])\n",
        "plt.title('model loss')\n",
        "plt.ylabel('loss')\n",
        "plt.xlabel('epoch')\n",
        "\n",
        "plt.show()"
      ],
      "execution_count": null,
      "outputs": [
        {
          "output_type": "display_data",
          "data": {
            "image/png": "[encoded data removed]",
            "text/plain": [
              "<Figure size 432x288 with 1 Axes>"
            ]
          },
          "metadata": {
            "tags": [],
            "needs_background": "light"
          }
        }
      ]
    },
    {
      "cell_type": "markdown",
      "metadata": {
        "id": "6n5FxKnE_k6N"
      },
      "source": [
        "- **測試模型**\n",
        "經過train、val data來調整完成模型後，用model完全沒看過的資料 test data來測試模型準確度"
      ]
    },
    {
      "cell_type": "code",
      "metadata": {
        "colab": {
          "base_uri": "https://localhost:8080/"
        },
        "id": "ZCLC0OPSZqvN",
        "outputId": "b8e4c93a-0826-44df-9c08-062746b36c51"
      },
      "source": [
        "score = model.evaluate(x_test, test_label, verbose=0)\n",
        "print(\"Test loss:\", score[0])\n",
        "print(\"Test accuracy:\", score[1])"
      ],
      "execution_count": null,
      "outputs": [
        {
          "output_type": "stream",
          "text": [
            "Test loss: 0.029757894575595856\n",
            "Test accuracy: 0.9919999837875366\n"
          ],
          "name": "stdout"
        }
      ]
    }
  ]
}