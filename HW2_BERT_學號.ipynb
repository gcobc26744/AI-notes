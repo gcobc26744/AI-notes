{
  "cells": [
    {
      "cell_type": "markdown",
      "metadata": {
        "id": "view-in-github",
        "colab_type": "text"
      },
      "source": [
        "<a href=\"https://colab.research.google.com/github/gcobc26744/AI-notes/blob/main/HW2_BERT_%E5%AD%B8%E8%99%9F.ipynb\" target=\"_parent\"><img src=\"https://colab.research.google.com/assets/colab-badge.svg\" alt=\"Open In Colab\"/></a>"
      ]
    },
    {
      "cell_type": "markdown",
      "source": [
        "# 作業 2: 牛逼！情緒分析\n",
        "\n",
        "資料集: [Learning Word Vectors for Sentiment Analysis](https://aclanthology.org/P11-1015.pdf)\n",
        "\n",
        "程式碼參考自: [huggingface](https://huggingface.co/)\n",
        "\n",
        "> **資料集說明**\n",
        "\n",
        "Large Movie Review Dataset. This is a dataset for binary sentiment classification containing substantially more data than previous benchmark datasets. We provide a set of 25,000 highly polar movie reviews for training, and 25,000 for testing. There is additional unlabeled data for use as well.\n",
        "\n",
        ">**本次介紹模型為BERT**\n",
        "\n",
        "[BERT: Pre-training of Deep Bidirectional Transformers for Language Understanding](https://github.com/google-research/bert)\n",
        "\n",
        "程式碼參考自: [huggingface](https://huggingface.co/)\n",
        "\n",
        "![](https://i.imgur.com/spiKPbQ.png)\n",
        "\n",
        "[可搭配李宏毅大大的說明影片食用](https://youtu.be/UYPa347-DdE)\n",
        "\n",
        "**訓練一個 BERT 分類模型，輸入是一句話，辨識出這句話的情緒傾向。**\n",
        "\n",
        "\n",
        ">**作業說明**\n",
        "\n",
        "**第一步驟**: 左上角 檔案 -> 在雲端硬碟建立副本。\n",
        "\n",
        "**第二步驟**: 右上角 共用 -> 取得連結 -> 任何知道這個連結的人都能編輯\n",
        "\n",
        "**第三步驟**: 左上角 執行階段 -> 更變執行類型 -> GPU。 可以加快模型速度\n",
        "\n",
        "**第四步驟**: 檔案名稱，請填寫你的學號，把副本上下引號刪掉。 **如  \"HW2-BERT-112423050.ipynb\"**\n",
        "\n",
        "請 **隨意修改** 這個 colab 的程式來完成訓練 BERT 分類模型。**要跑得出來 Testing Accuracy, 須完成 TODO1-7**，不必一定要照著提示走。\n",
        "繳交時記得改檔案標題的學號。\n",
        "\n",
        "本次作業著重在學習 pytorch 的使用方法及 Transformer 家族中 BERT 的應用。\n",
        "\n",
        "> **作業限制**\n",
        "\n",
        "1. 不要動資料集、不要在訓練時偷看 test data\n",
        "2. 模型可自行多嘗試不同組合，**不能只用已經 pretrained 好的模型**，一定再用新的資料訓練過\n",
        "3. **不要抄襲**\n",
        "\n",
        "> **作業繳交**\n",
        "\n",
        "1. 完成訓練後保存 output 結果 ，更改**檔名學號**，左上角 檔案 -> 下載成 ipynb 檔。\n",
        "2. 交一個 pdf 檔，裡面需要附上**你的作業 colab 連結 ( 設為可編輯 )**、姓名學號年級 、過程和執行結果的截圖 ，並說明你程式撰寫的過程 、本次作業心得 ( 至少 50 字 )。\n",
        "3. 文件內至少應貼上你的 Test Acc\n",
        "4. 上述兩個檔案繳交至 ee-class。\n",
        "\n",
        "> **算分標準**\n",
        "\n",
        "* 基本分（90 分）：(Test_Acc - 60）(35 分) + Training function（20 分） + Model（15 分） + 文件（20 分）\n",
        "  1. (Test_Acc - 60):  用訓練完的 bert-base-uncased 模型去看 Test 資料的 accuracy 再減去 60，最低此項目 0 分，最高此項目 35 分\n",
        "  2. Training function : 完成前置準備所需的程式碼 ( 資料處理等 )，共 20 分 ( 包含 TODO1-4)\n",
        "  3. Model : 完成模型建構 ，模型訓練及模型預測 ，共 15 分 (TODO5-7)\n",
        "  4. 文件 : 共 20 分\n",
        "    1.  姓名、學號、年級（1%）\n",
        "    1.  colab 連結（1%）\n",
        "    1. Test accuracy（2%）\n",
        "    1. 撰寫過程與截圖（8%）\n",
        "    1. 心得（8%，至少 50 字）\n",
        "* 加分項（10 分 ）：請附上二種的 pretrained 模型結果（一個 5 分），最多只加到 10 分（ 即完成 2 個模型 ）\n",
        "  1. 參考資料: [Transformer 模型總覽](https://huggingface.co/docs/transformers/index)\n",
        "  2. 舉例：原本是 bert-base-uncased （完成這個就已經有 5 分了），如果你換其他模型如 distilbert-base-uncased ，再完成一次並記錄結果可以再加 5 分（ 可在文件中敘述不同模型的差異或建議 ）\n",
        "\n",
        "有問題再來信助教: s112423023@g.ncu.edu.tw(蕭鈺宸)、ben03181574@g.ncu.edu.tw(郭柏成)\n"
      ],
      "metadata": {
        "id": "ZpI-S9-Hp-En"
      },
      "id": "ZpI-S9-Hp-En"
    },
    {
      "cell_type": "markdown",
      "source": [
        "### 資料集下載\n",
        "\n",
        "- 資料集說明 :\n",
        "  - text: a string feature.\n",
        "  - label: a classification label, with possible values including neg (0), pos (1)."
      ],
      "metadata": {
        "id": "6Y3gm_UxqEr1"
      },
      "id": "6Y3gm_UxqEr1"
    },
    {
      "cell_type": "markdown",
      "source": [
        "### 請注意以下 ***TODO*** 區塊是需要改寫之處\n",
        "* TODO\n",
        "> ```\n",
        "> ##########\n",
        "> # todo #\n",
        "> ##########\n",
        "> ```"
      ],
      "metadata": {
        "id": "9aKF-XVUggmA"
      },
      "id": "9aKF-XVUggmA"
    },
    {
      "cell_type": "markdown",
      "metadata": {
        "id": "8zVpYXmzXyQ4"
      },
      "source": [
        "## 安裝與載入所需套件"
      ],
      "id": "8zVpYXmzXyQ4"
    },
    {
      "cell_type": "code",
      "source": [
        "!pip install datasets transformers"
      ],
      "metadata": {
        "colab": {
          "base_uri": "https://localhost:8080/"
        },
        "id": "sGLfFjfXYIQ8",
        "outputId": "08f2d14a-522e-4d15-98a8-f9ef68b78758"
      },
      "id": "sGLfFjfXYIQ8",
      "execution_count": null,
      "outputs": [
        {
          "output_type": "stream",
          "name": "stdout",
          "text": [
            "Looking in indexes: https://pypi.org/simple, https://us-python.pkg.dev/colab-wheels/public/simple/\n",
            "Collecting datasets\n",
            "  Downloading datasets-2.12.0-py3-none-any.whl (474 kB)\n",
            "\u001b[2K     \u001b[90m━━━━━━━━━━━━━━━━━━━━━━━━━━━━━━━━━━━━━━\u001b[0m \u001b[32m474.6/474.6 kB\u001b[0m \u001b[31m29.4 MB/s\u001b[0m eta \u001b[36m0:00:00\u001b[0m\n",
            "\u001b[?25hCollecting transformers\n",
            "  Downloading transformers-4.29.2-py3-none-any.whl (7.1 MB)\n",
            "\u001b[2K     \u001b[90m━━━━━━━━━━━━━━━━━━━━━━━━━━━━━━━━━━━━━━━━\u001b[0m \u001b[32m7.1/7.1 MB\u001b[0m \u001b[31m88.0 MB/s\u001b[0m eta \u001b[36m0:00:00\u001b[0m\n",
            "\u001b[?25hRequirement already satisfied: numpy>=1.17 in /usr/local/lib/python3.10/dist-packages (from datasets) (1.22.4)\n",
            "Requirement already satisfied: pyarrow>=8.0.0 in /usr/local/lib/python3.10/dist-packages (from datasets) (9.0.0)\n",
            "Collecting dill<0.3.7,>=0.3.0 (from datasets)\n",
            "  Downloading dill-0.3.6-py3-none-any.whl (110 kB)\n",
            "\u001b[2K     \u001b[90m━━━━━━━━━━━━━━━━━━━━━━━━━━━━━━━━━━━━━━\u001b[0m \u001b[32m110.5/110.5 kB\u001b[0m \u001b[31m15.3 MB/s\u001b[0m eta \u001b[36m0:00:00\u001b[0m\n",
            "\u001b[?25hRequirement already satisfied: pandas in /usr/local/lib/python3.10/dist-packages (from datasets) (1.5.3)\n",
            "Requirement already satisfied: requests>=2.19.0 in /usr/local/lib/python3.10/dist-packages (from datasets) (2.27.1)\n",
            "Requirement already satisfied: tqdm>=4.62.1 in /usr/local/lib/python3.10/dist-packages (from datasets) (4.65.0)\n",
            "Collecting xxhash (from datasets)\n",
            "  Downloading xxhash-3.2.0-cp310-cp310-manylinux_2_17_x86_64.manylinux2014_x86_64.whl (212 kB)\n",
            "\u001b[2K     \u001b[90m━━━━━━━━━━━━━━━━━━━━━━━━━━━━━━━━━━━━━━\u001b[0m \u001b[32m212.5/212.5 kB\u001b[0m \u001b[31m29.7 MB/s\u001b[0m eta \u001b[36m0:00:00\u001b[0m\n",
            "\u001b[?25hCollecting multiprocess (from datasets)\n",
            "  Downloading multiprocess-0.70.14-py310-none-any.whl (134 kB)\n",
            "\u001b[2K     \u001b[90m━━━━━━━━━━━━━━━━━━━━━━━━━━━━━━━━━━━━━━\u001b[0m \u001b[32m134.3/134.3 kB\u001b[0m \u001b[31m18.9 MB/s\u001b[0m eta \u001b[36m0:00:00\u001b[0m\n",
            "\u001b[?25hRequirement already satisfied: fsspec[http]>=2021.11.1 in /usr/local/lib/python3.10/dist-packages (from datasets) (2023.4.0)\n",
            "Collecting aiohttp (from datasets)\n",
            "  Downloading aiohttp-3.8.4-cp310-cp310-manylinux_2_17_x86_64.manylinux2014_x86_64.whl (1.0 MB)\n",
            "\u001b[2K     \u001b[90m━━━━━━━━━━━━━━━━━━━━━━━━━━━━━━━━━━━━━━━━\u001b[0m \u001b[32m1.0/1.0 MB\u001b[0m \u001b[31m77.2 MB/s\u001b[0m eta \u001b[36m0:00:00\u001b[0m\n",
            "\u001b[?25hCollecting huggingface-hub<1.0.0,>=0.11.0 (from datasets)\n",
            "  Downloading huggingface_hub-0.15.1-py3-none-any.whl (236 kB)\n",
            "\u001b[2K     \u001b[90m━━━━━━━━━━━━━━━━━━━━━━━━━━━━━━━━━━━━━━\u001b[0m \u001b[32m236.8/236.8 kB\u001b[0m \u001b[31m29.3 MB/s\u001b[0m eta \u001b[36m0:00:00\u001b[0m\n",
            "\u001b[?25hRequirement already satisfied: packaging in /usr/local/lib/python3.10/dist-packages (from datasets) (23.1)\n",
            "Collecting responses<0.19 (from datasets)\n",
            "  Downloading responses-0.18.0-py3-none-any.whl (38 kB)\n",
            "Requirement already satisfied: pyyaml>=5.1 in /usr/local/lib/python3.10/dist-packages (from datasets) (6.0)\n",
            "Requirement already satisfied: filelock in /usr/local/lib/python3.10/dist-packages (from transformers) (3.12.0)\n",
            "Requirement already satisfied: regex!=2019.12.17 in /usr/local/lib/python3.10/dist-packages (from transformers) (2022.10.31)\n",
            "Collecting tokenizers!=0.11.3,<0.14,>=0.11.1 (from transformers)\n",
            "  Downloading tokenizers-0.13.3-cp310-cp310-manylinux_2_17_x86_64.manylinux2014_x86_64.whl (7.8 MB)\n",
            "\u001b[2K     \u001b[90m━━━━━━━━━━━━━━━━━━━━━━━━━━━━━━━━━━━━━━━━\u001b[0m \u001b[32m7.8/7.8 MB\u001b[0m \u001b[31m130.0 MB/s\u001b[0m eta \u001b[36m0:00:00\u001b[0m\n",
            "\u001b[?25hRequirement already satisfied: attrs>=17.3.0 in /usr/local/lib/python3.10/dist-packages (from aiohttp->datasets) (23.1.0)\n",
            "Requirement already satisfied: charset-normalizer<4.0,>=2.0 in /usr/local/lib/python3.10/dist-packages (from aiohttp->datasets) (2.0.12)\n",
            "Collecting multidict<7.0,>=4.5 (from aiohttp->datasets)\n",
            "  Downloading multidict-6.0.4-cp310-cp310-manylinux_2_17_x86_64.manylinux2014_x86_64.whl (114 kB)\n",
            "\u001b[2K     \u001b[90m━━━━━━━━━━━━━━━━━━━━━━━━━━━━━━━━━━━━━━\u001b[0m \u001b[32m114.5/114.5 kB\u001b[0m \u001b[31m16.4 MB/s\u001b[0m eta \u001b[36m0:00:00\u001b[0m\n",
            "\u001b[?25hCollecting async-timeout<5.0,>=4.0.0a3 (from aiohttp->datasets)\n",
            "  Downloading async_timeout-4.0.2-py3-none-any.whl (5.8 kB)\n",
            "Collecting yarl<2.0,>=1.0 (from aiohttp->datasets)\n",
            "  Downloading yarl-1.9.2-cp310-cp310-manylinux_2_17_x86_64.manylinux2014_x86_64.whl (268 kB)\n",
            "\u001b[2K     \u001b[90m━━━━━━━━━━━━━━━━━━━━━━━━━━━━━━━━━━━━━━\u001b[0m \u001b[32m268.8/268.8 kB\u001b[0m \u001b[31m36.4 MB/s\u001b[0m eta \u001b[36m0:00:00\u001b[0m\n",
            "\u001b[?25hCollecting frozenlist>=1.1.1 (from aiohttp->datasets)\n",
            "  Downloading frozenlist-1.3.3-cp310-cp310-manylinux_2_5_x86_64.manylinux1_x86_64.manylinux_2_17_x86_64.manylinux2014_x86_64.whl (149 kB)\n",
            "\u001b[2K     \u001b[90m━━━━━━━━━━━━━━━━━━━━━━━━━━━━━━━━━━━━━━\u001b[0m \u001b[32m149.6/149.6 kB\u001b[0m \u001b[31m16.2 MB/s\u001b[0m eta \u001b[36m0:00:00\u001b[0m\n",
            "\u001b[?25hCollecting aiosignal>=1.1.2 (from aiohttp->datasets)\n",
            "  Downloading aiosignal-1.3.1-py3-none-any.whl (7.6 kB)\n",
            "Requirement already satisfied: typing-extensions>=3.7.4.3 in /usr/local/lib/python3.10/dist-packages (from huggingface-hub<1.0.0,>=0.11.0->datasets) (4.5.0)\n",
            "Requirement already satisfied: urllib3<1.27,>=1.21.1 in /usr/local/lib/python3.10/dist-packages (from requests>=2.19.0->datasets) (1.26.15)\n",
            "Requirement already satisfied: certifi>=2017.4.17 in /usr/local/lib/python3.10/dist-packages (from requests>=2.19.0->datasets) (2022.12.7)\n",
            "Requirement already satisfied: idna<4,>=2.5 in /usr/local/lib/python3.10/dist-packages (from requests>=2.19.0->datasets) (3.4)\n",
            "Requirement already satisfied: python-dateutil>=2.8.1 in /usr/local/lib/python3.10/dist-packages (from pandas->datasets) (2.8.2)\n",
            "Requirement already satisfied: pytz>=2020.1 in /usr/local/lib/python3.10/dist-packages (from pandas->datasets) (2022.7.1)\n",
            "Requirement already satisfied: six>=1.5 in /usr/local/lib/python3.10/dist-packages (from python-dateutil>=2.8.1->pandas->datasets) (1.16.0)\n",
            "Installing collected packages: tokenizers, xxhash, multidict, frozenlist, dill, async-timeout, yarl, responses, multiprocess, huggingface-hub, aiosignal, transformers, aiohttp, datasets\n",
            "Successfully installed aiohttp-3.8.4 aiosignal-1.3.1 async-timeout-4.0.2 datasets-2.12.0 dill-0.3.6 frozenlist-1.3.3 huggingface-hub-0.15.1 multidict-6.0.4 multiprocess-0.70.14 responses-0.18.0 tokenizers-0.13.3 transformers-4.29.2 xxhash-3.2.0 yarl-1.9.2\n"
          ]
        }
      ]
    },
    {
      "cell_type": "code",
      "execution_count": null,
      "metadata": {
        "id": "ej79ZzPJXyQ5"
      },
      "outputs": [],
      "source": [
        "from torch.utils.data import Dataset, DataLoader\n",
        "from transformers import AutoTokenizer\n",
        "from transformers.models.bert.modeling_bert import BertPreTrainedModel, BertModel\n",
        "from sklearn.model_selection import train_test_split\n",
        "from sklearn.metrics import accuracy_score, f1_score, recall_score, precision_score\n",
        "import torch\n",
        "import torch.nn.functional as Fun\n",
        "import transformers\n",
        "import matplotlib.pyplot as plt\n",
        "from tqdm import tqdm\n",
        "import pandas as pd\n",
        "import time\n",
        "import warnings\n",
        "warnings.filterwarnings('ignore') # setting ignore as a parameter\n"
      ],
      "id": "ej79ZzPJXyQ5"
    },
    {
      "cell_type": "markdown",
      "metadata": {
        "id": "kFHx_Dq5XyQ7"
      },
      "source": [
        "## 一些模型會用到的小函數"
      ],
      "id": "kFHx_Dq5XyQ7"
    },
    {
      "cell_type": "markdown",
      "source": [
        "* TODO1: 完成 get_pred()\n",
        "> 從logits的dimension=1去取得結果中數值最高者當做預測結果\n",
        "* TODO2: 完成 cal_metrics()\n",
        "> 透過將 tensor 轉為 numpy，可使用 sklearn 的套件算出 acc, f1_score, recall 及 precision"
      ],
      "metadata": {
        "id": "i6gcO4YfxzeT"
      },
      "id": "i6gcO4YfxzeT"
    },
    {
      "cell_type": "code",
      "execution_count": null,
      "metadata": {
        "id": "nOSkuPT7XyQ8"
      },
      "outputs": [],
      "source": [
        "# get predict result\n",
        "def get_pred(logits):\n",
        "  ##########\n",
        "  # todo #\n",
        "  ##########\n",
        "\n",
        "# calculate confusion metrics\n",
        "def cal_metrics(pred, ans):\n",
        "  ##########\n",
        "  # todo #\n",
        "  ##########"
      ],
      "id": "nOSkuPT7XyQ8"
    },
    {
      "cell_type": "code",
      "execution_count": null,
      "metadata": {
        "id": "RuLxKpySXyQ-"
      },
      "outputs": [],
      "source": [
        "# save model to path\n",
        "def save_checkpoint(save_path, model):\n",
        "  if save_path == None:\n",
        "      return\n",
        "  torch.save(model.state_dict(), save_path)\n",
        "  print(f'Model saved to ==> {save_path}')\n",
        "\n",
        "# load model from path\n",
        "def load_checkpoint(load_path, model, device):\n",
        "  if load_path==None:\n",
        "      return\n",
        "  state_dict = torch.load(load_path, map_location=device)\n",
        "  print(f'Model loaded from <== {load_path}')\n",
        "\n",
        "  model.load_state_dict(state_dict)\n",
        "  return model"
      ],
      "id": "RuLxKpySXyQ-"
    },
    {
      "cell_type": "markdown",
      "metadata": {
        "id": "ioYB1sE_XyRA"
      },
      "source": [
        "## 載入資料\n",
        "\n",
        "- 這個資料集有分成 train, test, unsupervised\n",
        "\n",
        "- 這次我們只使用 train 及 test 資料，且我們需要將原資料重新進行分割。\n",
        "\n",
        "- 將兩份資料合併後切割成 3:1:1 或是 8:1:1 的 train/val/test 資料集。"
      ],
      "id": "ioYB1sE_XyRA"
    },
    {
      "cell_type": "code",
      "source": [
        "from datasets import load_dataset\n",
        "\n",
        "dataset = load_dataset(\"imdb\")"
      ],
      "metadata": {
        "colab": {
          "base_uri": "https://localhost:8080/",
          "referenced_widgets": [
            "c707c476dbbb4c2e9c7fd1eedb4d65eb",
            "18882ffd62234ca2b3d66ab3199eb566",
            "73f0980c9bca44f4aa662e4ca46572f0",
            "2ce5426a69d44872a922fe5d5440c9ad",
            "ff87cd8067c4497ba0839e390fd80aad",
            "1eaadc75a74f4c4fa26c1e05cf1654fa",
            "1a8ba68ddd5f4eeea74f3766f083e16f",
            "75fc56b2fa784385ab2a78c565211ded",
            "1d301c7d9a62426f9a6eebd5b89e8c81",
            "0c34a7930aff41e19d169773b2888e3c",
            "638cbc56b96b43398e9ec45dd9d4a887"
          ]
        },
        "id": "r_mBNUdCA410",
        "outputId": "a2c7f22e-0e12-4d1f-d7c7-5004f3cee2bf"
      },
      "id": "r_mBNUdCA410",
      "execution_count": null,
      "outputs": [
        {
          "output_type": "stream",
          "name": "stderr",
          "text": [
            "WARNING:datasets.builder:Found cached dataset imdb (/root/.cache/huggingface/datasets/imdb/plain_text/1.0.0/d613c88cf8fa3bab83b4ded3713f1f74830d1100e171db75bbddb80b3345c9c0)\n"
          ]
        },
        {
          "output_type": "display_data",
          "data": {
            "text/plain": [
              "  0%|          | 0/3 [00:00<?, ?it/s]"
            ],
            "application/vnd.jupyter.widget-view+json": {
              "version_major": 2,
              "version_minor": 0,
              "model_id": "c707c476dbbb4c2e9c7fd1eedb4d65eb"
            }
          },
          "metadata": {}
        }
      ]
    },
    {
      "cell_type": "markdown",
      "source": [
        "看一下資料格式長怎樣"
      ],
      "metadata": {
        "id": "07XTeYjcTen9"
      },
      "id": "07XTeYjcTen9"
    },
    {
      "cell_type": "code",
      "source": [
        "dataset"
      ],
      "metadata": {
        "colab": {
          "base_uri": "https://localhost:8080/"
        },
        "id": "JxuLKpupMejB",
        "outputId": "a001182d-3a56-44d4-ef1a-4d58ab75f2c6"
      },
      "id": "JxuLKpupMejB",
      "execution_count": null,
      "outputs": [
        {
          "output_type": "execute_result",
          "data": {
            "text/plain": [
              "DatasetDict({\n",
              "    train: Dataset({\n",
              "        features: ['text', 'label'],\n",
              "        num_rows: 25000\n",
              "    })\n",
              "    test: Dataset({\n",
              "        features: ['text', 'label'],\n",
              "        num_rows: 25000\n",
              "    })\n",
              "    unsupervised: Dataset({\n",
              "        features: ['text', 'label'],\n",
              "        num_rows: 50000\n",
              "    })\n",
              "})"
            ]
          },
          "metadata": {},
          "execution_count": 7
        }
      ]
    },
    {
      "cell_type": "code",
      "source": [
        "dataset['train'][0]"
      ],
      "metadata": {
        "colab": {
          "base_uri": "https://localhost:8080/"
        },
        "id": "fkrrOqXdTaaE",
        "outputId": "d4f17771-3f9f-49e6-86ef-167a782a70d5"
      },
      "id": "fkrrOqXdTaaE",
      "execution_count": null,
      "outputs": [
        {
          "output_type": "execute_result",
          "data": {
            "text/plain": [
              "{'text': 'I rented I AM CURIOUS-YELLOW from my video store because of all the controversy that surrounded it when it was first released in 1967. I also heard that at first it was seized by U.S. customs if it ever tried to enter this country, therefore being a fan of films considered \"controversial\" I really had to see this for myself.<br /><br />The plot is centered around a young Swedish drama student named Lena who wants to learn everything she can about life. In particular she wants to focus her attentions to making some sort of documentary on what the average Swede thought about certain political issues such as the Vietnam War and race issues in the United States. In between asking politicians and ordinary denizens of Stockholm about their opinions on politics, she has sex with her drama teacher, classmates, and married men.<br /><br />What kills me about I AM CURIOUS-YELLOW is that 40 years ago, this was considered pornographic. Really, the sex and nudity scenes are few and far between, even then it\\'s not shot like some cheaply made porno. While my countrymen mind find it shocking, in reality sex and nudity are a major staple in Swedish cinema. Even Ingmar Bergman, arguably their answer to good old boy John Ford, had sex scenes in his films.<br /><br />I do commend the filmmakers for the fact that any sex shown in the film is shown for artistic purposes rather than just to shock people and make money to be shown in pornographic theaters in America. I AM CURIOUS-YELLOW is a good film for anyone wanting to study the meat and potatoes (no pun intended) of Swedish cinema. But really, this film doesn\\'t have much of a plot.',\n",
              " 'label': 0}"
            ]
          },
          "metadata": {},
          "execution_count": 8
        }
      ]
    },
    {
      "cell_type": "markdown",
      "source": [
        "* TODO3\n",
        "  >把資料拿出來後 ，將 train 及 test 合併，重新切割後，儲存下來。"
      ],
      "metadata": {
        "id": "6JN_QzdbSR2I"
      },
      "id": "6JN_QzdbSR2I"
    },
    {
      "cell_type": "code",
      "source": [
        "import pandas as pd\n",
        "\n",
        "all_data = [] # a list to save all data\n",
        "\n",
        "##########\n",
        "# todo #\n",
        "##########"
      ],
      "metadata": {
        "colab": {
          "base_uri": "https://localhost:8080/"
        },
        "id": "PHWieZNXIos5",
        "outputId": "a8cacbe1-aa5c-491a-aab7-62c678636ebd"
      },
      "id": "PHWieZNXIos5",
      "execution_count": null,
      "outputs": [
        {
          "output_type": "execute_result",
          "data": {
            "text/plain": [
              "                                                text  label\n",
              "0  I rented I AM CURIOUS-YELLOW from my video sto...      0\n",
              "1  \"I Am Curious: Yellow\" is a risible and preten...      0\n",
              "2  If only to avoid making this type of film in t...      0\n",
              "3  This film was probably inspired by Godard's Ma...      0\n",
              "4  Oh, brother...after hearing about this ridicul...      0"
            ],
            "text/html": [
              "\n",
              "  <div id=\"df-5b2ad975-d397-49f7-87fc-7659d243a8c3\">\n",
              "    <div class=\"colab-df-container\">\n",
              "      <div>\n",
              "<style scoped>\n",
              "    .dataframe tbody tr th:only-of-type {\n",
              "        vertical-align: middle;\n",
              "    }\n",
              "\n",
              "    .dataframe tbody tr th {\n",
              "        vertical-align: top;\n",
              "    }\n",
              "\n",
              "    .dataframe thead th {\n",
              "        text-align: right;\n",
              "    }\n",
              "</style>\n",
              "<table border=\"1\" class=\"dataframe\">\n",
              "  <thead>\n",
              "    <tr style=\"text-align: right;\">\n",
              "      <th></th>\n",
              "      <th>text</th>\n",
              "      <th>label</th>\n",
              "    </tr>\n",
              "  </thead>\n",
              "  <tbody>\n",
              "    <tr>\n",
              "      <th>0</th>\n",
              "      <td>I rented I AM CURIOUS-YELLOW from my video sto...</td>\n",
              "      <td>0</td>\n",
              "    </tr>\n",
              "    <tr>\n",
              "      <th>1</th>\n",
              "      <td>\"I Am Curious: Yellow\" is a risible and preten...</td>\n",
              "      <td>0</td>\n",
              "    </tr>\n",
              "    <tr>\n",
              "      <th>2</th>\n",
              "      <td>If only to avoid making this type of film in t...</td>\n",
              "      <td>0</td>\n",
              "    </tr>\n",
              "    <tr>\n",
              "      <th>3</th>\n",
              "      <td>This film was probably inspired by Godard's Ma...</td>\n",
              "      <td>0</td>\n",
              "    </tr>\n",
              "    <tr>\n",
              "      <th>4</th>\n",
              "      <td>Oh, brother...after hearing about this ridicul...</td>\n",
              "      <td>0</td>\n",
              "    </tr>\n",
              "  </tbody>\n",
              "</table>\n",
              "</div>\n",
              "      <button class=\"colab-df-convert\" onclick=\"convertToInteractive('df-5b2ad975-d397-49f7-87fc-7659d243a8c3')\"\n",
              "              title=\"Convert this dataframe to an interactive table.\"\n",
              "              style=\"display:none;\">\n",
              "        \n",
              "  <svg xmlns=\"http://www.w3.org/2000/svg\" height=\"24px\"viewBox=\"0 0 24 24\"\n",
              "       width=\"24px\">\n",
              "    <path d=\"M0 0h24v24H0V0z\" fill=\"none\"/>\n",
              "    <path d=\"M18.56 5.44l.94 2.06.94-2.06 2.06-.94-2.06-.94-.94-2.06-.94 2.06-2.06.94zm-11 1L8.5 8.5l.94-2.06 2.06-.94-2.06-.94L8.5 2.5l-.94 2.06-2.06.94zm10 10l.94 2.06.94-2.06 2.06-.94-2.06-.94-.94-2.06-.94 2.06-2.06.94z\"/><path d=\"M17.41 7.96l-1.37-1.37c-.4-.4-.92-.59-1.43-.59-.52 0-1.04.2-1.43.59L10.3 9.45l-7.72 7.72c-.78.78-.78 2.05 0 2.83L4 21.41c.39.39.9.59 1.41.59.51 0 1.02-.2 1.41-.59l7.78-7.78 2.81-2.81c.8-.78.8-2.07 0-2.86zM5.41 20L4 18.59l7.72-7.72 1.47 1.35L5.41 20z\"/>\n",
              "  </svg>\n",
              "      </button>\n",
              "      \n",
              "  <style>\n",
              "    .colab-df-container {\n",
              "      display:flex;\n",
              "      flex-wrap:wrap;\n",
              "      gap: 12px;\n",
              "    }\n",
              "\n",
              "    .colab-df-convert {\n",
              "      background-color: #E8F0FE;\n",
              "      border: none;\n",
              "      border-radius: 50%;\n",
              "      cursor: pointer;\n",
              "      display: none;\n",
              "      fill: #1967D2;\n",
              "      height: 32px;\n",
              "      padding: 0 0 0 0;\n",
              "      width: 32px;\n",
              "    }\n",
              "\n",
              "    .colab-df-convert:hover {\n",
              "      background-color: #E2EBFA;\n",
              "      box-shadow: 0px 1px 2px rgba(60, 64, 67, 0.3), 0px 1px 3px 1px rgba(60, 64, 67, 0.15);\n",
              "      fill: #174EA6;\n",
              "    }\n",
              "\n",
              "    [theme=dark] .colab-df-convert {\n",
              "      background-color: #3B4455;\n",
              "      fill: #D2E3FC;\n",
              "    }\n",
              "\n",
              "    [theme=dark] .colab-df-convert:hover {\n",
              "      background-color: #434B5C;\n",
              "      box-shadow: 0px 1px 3px 1px rgba(0, 0, 0, 0.15);\n",
              "      filter: drop-shadow(0px 1px 2px rgba(0, 0, 0, 0.3));\n",
              "      fill: #FFFFFF;\n",
              "    }\n",
              "  </style>\n",
              "\n",
              "      <script>\n",
              "        const buttonEl =\n",
              "          document.querySelector('#df-5b2ad975-d397-49f7-87fc-7659d243a8c3 button.colab-df-convert');\n",
              "        buttonEl.style.display =\n",
              "          google.colab.kernel.accessAllowed ? 'block' : 'none';\n",
              "\n",
              "        async function convertToInteractive(key) {\n",
              "          const element = document.querySelector('#df-5b2ad975-d397-49f7-87fc-7659d243a8c3');\n",
              "          const dataTable =\n",
              "            await google.colab.kernel.invokeFunction('convertToInteractive',\n",
              "                                                     [key], {});\n",
              "          if (!dataTable) return;\n",
              "\n",
              "          const docLinkHtml = 'Like what you see? Visit the ' +\n",
              "            '<a target=\"_blank\" href=https://colab.research.google.com/notebooks/data_table.ipynb>data table notebook</a>'\n",
              "            + ' to learn more about interactive tables.';\n",
              "          element.innerHTML = '';\n",
              "          dataTable['output_type'] = 'display_data';\n",
              "          await google.colab.output.renderOutput(dataTable, element);\n",
              "          const docLink = document.createElement('div');\n",
              "          docLink.innerHTML = docLinkHtml;\n",
              "          element.appendChild(docLink);\n",
              "        }\n",
              "      </script>\n",
              "    </div>\n",
              "  </div>\n",
              "  "
            ]
          },
          "metadata": {},
          "execution_count": 9
        }
      ]
    },
    {
      "cell_type": "markdown",
      "source": [
        "可以看一下兩個類別分布的比例"
      ],
      "metadata": {
        "id": "-15N5wI3zmJ_"
      },
      "id": "-15N5wI3zmJ_"
    },
    {
      "cell_type": "code",
      "source": [
        "all_df.label.value_counts() / len(all_df)"
      ],
      "metadata": {
        "colab": {
          "base_uri": "https://localhost:8080/"
        },
        "id": "mSQjyAzaoAJD",
        "outputId": "93f11070-dca4-4817-e0a5-27df0b709ff8"
      },
      "id": "mSQjyAzaoAJD",
      "execution_count": null,
      "outputs": [
        {
          "output_type": "execute_result",
          "data": {
            "text/plain": [
              "0    0.5\n",
              "1    0.5\n",
              "Name: label, dtype: float64"
            ]
          },
          "metadata": {},
          "execution_count": 10
        }
      ]
    },
    {
      "cell_type": "code",
      "source": [
        "from sklearn.model_selection import train_test_split\n",
        "\n",
        "train_df, temp_data = train_test_split(all_df, random_state=1111, train_size=0.8)\n",
        "dev_df, test_df = train_test_split(temp_data, random_state=1111, train_size=0.5)\n",
        "print('# of train_df:', len(train_df))\n",
        "print('# of dev_df:', len(dev_df))\n",
        "print('# of test_df data:', len(test_df))\n",
        "\n",
        "# save data\n",
        "train_df.to_csv('./train.tsv', sep='\\t', index=False)\n",
        "dev_df.to_csv('./val.tsv', sep='\\t', index=False)\n",
        "test_df.to_csv('./test.tsv', sep='\\t', index=False)"
      ],
      "metadata": {
        "colab": {
          "base_uri": "https://localhost:8080/"
        },
        "id": "RhM_od5-Tpkc",
        "outputId": "8ce7d558-4b86-4c89-9468-218c6926e2d1"
      },
      "id": "RhM_od5-Tpkc",
      "execution_count": null,
      "outputs": [
        {
          "output_type": "stream",
          "name": "stdout",
          "text": [
            "# of train_df: 40000\n",
            "# of dev_df: 5000\n",
            "# of test_df data: 5000\n"
          ]
        }
      ]
    },
    {
      "cell_type": "markdown",
      "metadata": {
        "id": "le1XiOWDXyRE"
      },
      "source": [
        "### 自定義 Dataset，將 tokenzie 的步驟放進去"
      ],
      "id": "le1XiOWDXyRE"
    },
    {
      "cell_type": "markdown",
      "source": [
        "* TODO4: 完成 tokenize()\n",
        "> 我們會需要拿到該句話的 input_ids、attenntion_mask 及 token_type_ids。"
      ],
      "metadata": {
        "id": "BdDpKblL0aU9"
      },
      "id": "BdDpKblL0aU9"
    },
    {
      "cell_type": "code",
      "execution_count": null,
      "metadata": {
        "id": "yvkBgVIhXyRF"
      },
      "outputs": [],
      "source": [
        "import torch\n",
        "from torch.utils.data import Dataset, DataLoader\n",
        "from transformers import AutoTokenizer\n",
        "import torch\n",
        "import torch.nn.functional as Fun\n",
        "\n",
        "# Using Dataset to build DataLoader\n",
        "class CustomDataset(Dataset):\n",
        "  def __init__(self, mode, df, specify, args):\n",
        "    assert mode in [\"train\", \"val\", \"test\"]  # 一般會切三份\n",
        "    self.mode = mode\n",
        "    self.df = df\n",
        "    self.specify = specify # specify column of data (the column U use for predict)\n",
        "    if self.mode != 'test':\n",
        "      self.label = df['label']\n",
        "    self.tokenizer = AutoTokenizer.from_pretrained(args[\"config\"])\n",
        "    self.max_len = args[\"max_len\"]\n",
        "    self.num_class = args[\"num_class\"]\n",
        "\n",
        "  def __len__(self):\n",
        "    return len(self.df)\n",
        "\n",
        "  # get single data\n",
        "  def __getitem__(self, index):\n",
        "\n",
        "    sentence = str(self.df[self.specify][index])\n",
        "    ids, mask, token_type_ids = self.tokenize(sentence)\n",
        "\n",
        "\n",
        "    if self.mode == \"test\":\n",
        "        return torch.tensor(ids, dtype=torch.long), torch.tensor(mask, dtype=torch.long), \\\n",
        "            torch.tensor(token_type_ids, dtype=torch.long)\n",
        "    else:\n",
        "        if self.num_class > 2:\n",
        "          return torch.tensor(ids, dtype=torch.long), torch.tensor(mask, dtype=torch.long), \\\n",
        "            torch.tensor(token_type_ids, dtype=torch.long), self.one_hot_label(self.label[index])\n",
        "        else:\n",
        "          return torch.tensor(ids, dtype=torch.long), torch.tensor(mask, dtype=torch.long), \\\n",
        "            torch.tensor(token_type_ids, dtype=torch.long), torch.tensor(self.label[index], dtype=torch.long)\n",
        "\n",
        "  # transform label to one_hot label (if num_class > 2)\n",
        "  def one_hot_label(self, label):\n",
        "    return Fun.one_hot(torch.tensor(label), num_classes = self.num_class)\n",
        "\n",
        "  # transform text to its number\n",
        "  def tokenize(self,input_text):\n",
        "    ##########\n",
        "    # todo #\n",
        "    ##########\n"
      ],
      "id": "yvkBgVIhXyRF"
    },
    {
      "cell_type": "markdown",
      "source": [
        "## 建立模型\n",
        "\n",
        "*   自己重新寫分類模型 (不可直接抄襲參考來源) ([參考來源](https://github.com/huggingface/transformers/blob/v4.39.1/src/transformers/models/bert/modeling_bert.py#L1519))\n",
        "*   模型訓練與評估的程式碼大致上相同，差別在於「模型是否繼續進行梯度下降」，以及「模型參數是否繼續訓練」\n",
        "\n"
      ],
      "metadata": {
        "id": "RQsY2rjue4Tm"
      },
      "id": "RQsY2rjue4Tm"
    },
    {
      "cell_type": "markdown",
      "source": [
        "* TODO5: 完成 BertClassifier\n",
        "> - 在初始化的地方加上dropout, linear layer（等於一層NN），其維度為類別數量；\n",
        "> - 在forward function中把輸入值放進對應層數（bert -> dropout -> classifier）；\n",
        "    \n",
        "    > 請注意我們只取用 bert 輸出的 sentence representation 去做分類"
      ],
      "metadata": {
        "id": "7Dgb-mW30jhI"
      },
      "id": "7Dgb-mW30jhI"
    },
    {
      "cell_type": "code",
      "execution_count": null,
      "metadata": {
        "id": "suyj5WLJXyQ7"
      },
      "outputs": [],
      "source": [
        "# BERT Model\n",
        "class BertClassifier(BertPreTrainedModel):\n",
        "  def __init__(self, config, args):\n",
        "    super(BertClassifier, self).__init__(config)\n",
        "    self.bert = BertModel(config)\n",
        "    ##########\n",
        "    # todo #\n",
        "    ##########\n",
        "    self.init_weights()\n",
        "\n",
        "  # forward function, data in model will do this\n",
        "  def forward(self, input_ids=None, attention_mask=None, token_type_ids=None, position_ids=None,\n",
        "              head_mask=None, inputs_embeds=None, labels=None, output_attentions=None,\n",
        "              output_hidden_states=None, return_dict=None):\n",
        "    ##########\n",
        "    # todo #\n",
        "    ##########\n"
      ],
      "id": "suyj5WLJXyQ7"
    },
    {
      "cell_type": "markdown",
      "source": [
        "這是已經寫好的evaluate()，train()會跟他很像\n",
        "\n",
        "(# 在評估模型的時候，不需要梯度下降)"
      ],
      "metadata": {
        "id": "fmr97mUu2Zmt"
      },
      "id": "fmr97mUu2Zmt"
    },
    {
      "cell_type": "code",
      "execution_count": null,
      "metadata": {
        "id": "_QVJaIv5XyQ9"
      },
      "outputs": [],
      "source": [
        "# evaluate dataloader\n",
        "def evaluate(model, data_loader, device):\n",
        "  val_loss, val_acc, val_f1, val_rec, val_prec = 0.0, 0.0, 0.0, 0.0, 0.0\n",
        "  step_count = 0\n",
        "  loss_fct = torch.nn.CrossEntropyLoss()\n",
        "  model.eval()\n",
        "  with torch.no_grad():\n",
        "    loop = tqdm((data_loader), total=len(data_loader), leave=True, colour='blue')\n",
        "    for data in loop:\n",
        "      ids, masks, token_type_ids, labels = [t.to(device) for t in data]\n",
        "\n",
        "      logits = model(input_ids = ids,\n",
        "              token_type_ids = token_type_ids,\n",
        "              attention_mask = masks)\n",
        "      acc, f1, rec, prec = cal_metrics(get_pred(logits), labels)\n",
        "      loss = loss_fct(logits, labels)\n",
        "\n",
        "      val_loss += loss.item()\n",
        "      val_acc += acc\n",
        "      val_f1 += f1\n",
        "      val_rec += rec\n",
        "      val_prec += prec\n",
        "      step_count+=1\n",
        "\n",
        "    val_loss = val_loss / step_count\n",
        "    val_acc = val_acc / step_count\n",
        "    val_f1 = val_f1 / step_count\n",
        "    val_rec = val_rec / step_count\n",
        "    val_prec = val_prec / step_count\n",
        "\n",
        "  return val_loss, val_acc, val_f1, val_rec, val_prec"
      ],
      "id": "_QVJaIv5XyQ9"
    },
    {
      "cell_type": "markdown",
      "metadata": {
        "id": "4QTsH978XyRG"
      },
      "source": [
        "## 開始訓練"
      ],
      "id": "4QTsH978XyRG"
    },
    {
      "cell_type": "markdown",
      "metadata": {
        "id": "sAaBnWzTXyQ_"
      },
      "source": [
        "### 定義你的 Hyperparameters\n",
        "\n",
        "* 如果電腦的記憶體不夠可以試著減少 batch_size\n",
        "* 因為我們採用現有的模型去 fine-tune，所以一般不需要設太多 epochs\n",
        "* config 就是我們所使用的現有模型，可以自己找適合的做替換\n",
        "* 這份 work 是做二分類，所以 num_class 為 2\n",
        "* 如果你的模型 overfit 了，可以把 dropout 調高\n",
        "* 可以試著調高或調低 learning_rate，這會影響他的學習速度（跨步的大小）\n",
        "* 你應該先檢閱你的資料再來決定 max_len （但 BERT 最大只吃到 512）"
      ],
      "id": "sAaBnWzTXyQ_"
    },
    {
      "cell_type": "code",
      "source": [
        "from datetime import datetime\n",
        "parameters = {\n",
        "    \"num_class\": 2,\n",
        "    \"time\": str(datetime.now()).replace(\" \", \"_\"),\n",
        "    # Hyperparameters\n",
        "    \"model_name\": 'BERT',\n",
        "    \"config\": 'bert-base-uncased',\n",
        "    \"learning_rate\": 1e-4,\n",
        "    \"epochs\": 3,\n",
        "    \"max_len\": 512,\n",
        "    \"batch_size\": 16,\n",
        "    \"dropout\": 0.1,\n",
        "}"
      ],
      "metadata": {
        "id": "Jaui0JY50LR_"
      },
      "id": "Jaui0JY50LR_",
      "execution_count": null,
      "outputs": []
    },
    {
      "cell_type": "markdown",
      "source": [
        "### 載入資料\n",
        "\n",
        "- 讀入資料並傳入自訂的 Dataset 以自訂資料格式\n",
        "\n",
        "- 之後傳入 DataLoader 以利後續訓練進行（將資料批次化以免記憶體爆掉 ）\n",
        "\n",
        "    (# 你可以決定要 sample 部分資料還是全部都丟進去)"
      ],
      "metadata": {
        "id": "IJpQ20GSZOoV"
      },
      "id": "IJpQ20GSZOoV"
    },
    {
      "cell_type": "code",
      "execution_count": null,
      "metadata": {
        "colab": {
          "base_uri": "https://localhost:8080/",
          "height": 145,
          "referenced_widgets": [
            "5f964809ce48437a887cbfe14a66af22",
            "91a62fb0f73745fb80db1d377e32cdd4",
            "77fb1652fd744facbbed9b8a23be8457",
            "31407c3417e946969edc1594d32e23bf",
            "e0d6a278f5ca4506bb129824e9ce2617",
            "52057265ba9242d487b28eae01a34067",
            "8b475f04a8b64db0b096da99dc401bd6",
            "f3b87fc4cbae49049e0834f01843352b",
            "0b67ce1810584a8084e4f3afc9332bda",
            "3bcfaf0108064bb9b5f04d2c781de8c1",
            "917141f226a5439ab8870072cdce72da",
            "0b9b98dd20b34fbeafad4b33549c8c75",
            "aca68689f12344a6883c03df3cbf8c6e",
            "47176d6d235d49d49be5aac90f4ba7a1",
            "24793b6a3f744df98cd39d9d73834051",
            "60ce46c153dc45ad98e4825141f7a1f7",
            "6e4919189cfd46789dce044a39ad4e46",
            "b15185d68cd24f98b9a4d5b0e42e75e7",
            "318c84f3612a4353ac8b4a3f78f0e74d",
            "b2f32e5cbdba4a90bf81a9daf94f31d5",
            "66eece2aed00420ba514b970ab9aa1c8",
            "5d099322ff2142d6b0904799dd099e54",
            "63ee62d39e1c450987eef3171e1cdfb0",
            "de66e4686eef45a4a76f4e170c722d9a",
            "f8efa2ff06fa4ab6b4876dfbf028e540",
            "404e383ede1f4bd29b468bcc269f85a6",
            "38625ce8b6bd44bfba2092e07fe2b0b2",
            "00c93a139acb4feb85635fe3f4cead4c",
            "ffb9250eea254625b2c596531ea24af3",
            "d6bec500c4394f8c954d4e4211862125",
            "ce8014d718a04403b7772e2c0b968edd",
            "2a94f50ac63e452aa39dda6ed6de4835",
            "541dfb5b2cbe44688e557ba5383b1cb0",
            "58e7b8dbabe54304b9c099107c26636c",
            "bfb52e0aa1514290a9cb3960b118ff3d",
            "5149fdd1f551405bab6e35e9c126fa9d",
            "11f652db904e4a3d9099f107a0970913",
            "403085f73c494e909cc11d98e41d63eb",
            "50e908f22cfe4693b2a7726dca5939ec",
            "00d1c5e673df47158259b5d3d6a340a4",
            "69220d4b77d240d9a285ee6e64dc56c0",
            "e3039a327f8b4781b7ce5172d79a8b7e",
            "28e1d33522bd41f98e9d294c5adfacab",
            "9f7c751a9c374fe2aeb5c68e5237e9b8"
          ]
        },
        "id": "W0t0NVOAXyRG",
        "outputId": "61f87b27-fe61-48db-b67c-03d2d3e2ab50"
      },
      "outputs": [
        {
          "output_type": "display_data",
          "data": {
            "text/plain": [
              "Downloading (…)okenizer_config.json:   0%|          | 0.00/28.0 [00:00<?, ?B/s]"
            ],
            "application/vnd.jupyter.widget-view+json": {
              "version_major": 2,
              "version_minor": 0,
              "model_id": "5f964809ce48437a887cbfe14a66af22"
            }
          },
          "metadata": {}
        },
        {
          "output_type": "display_data",
          "data": {
            "text/plain": [
              "Downloading (…)lve/main/config.json:   0%|          | 0.00/570 [00:00<?, ?B/s]"
            ],
            "application/vnd.jupyter.widget-view+json": {
              "version_major": 2,
              "version_minor": 0,
              "model_id": "0b9b98dd20b34fbeafad4b33549c8c75"
            }
          },
          "metadata": {}
        },
        {
          "output_type": "display_data",
          "data": {
            "text/plain": [
              "Downloading (…)solve/main/vocab.txt:   0%|          | 0.00/232k [00:00<?, ?B/s]"
            ],
            "application/vnd.jupyter.widget-view+json": {
              "version_major": 2,
              "version_minor": 0,
              "model_id": "63ee62d39e1c450987eef3171e1cdfb0"
            }
          },
          "metadata": {}
        },
        {
          "output_type": "display_data",
          "data": {
            "text/plain": [
              "Downloading (…)/main/tokenizer.json:   0%|          | 0.00/466k [00:00<?, ?B/s]"
            ],
            "application/vnd.jupyter.widget-view+json": {
              "version_major": 2,
              "version_minor": 0,
              "model_id": "58e7b8dbabe54304b9c099107c26636c"
            }
          },
          "metadata": {}
        }
      ],
      "source": [
        "import transformers\n",
        "import pandas as pd\n",
        "\n",
        "# load training data\n",
        "train_df = pd.read_csv('./train.tsv', sep = '\\t').sample(4000).reset_index(drop=True)\n",
        "train_dataset = CustomDataset('train', train_df, 'text', parameters)\n",
        "train_loader = DataLoader(train_dataset, batch_size=parameters['batch_size'], shuffle=True)\n",
        "\n",
        "# load validation data\n",
        "val_df = pd.read_csv('./val.tsv', sep = '\\t').sample(500).reset_index(drop=True)\n",
        "val_dataset = CustomDataset('val', val_df, 'text', parameters)\n",
        "val_loader = DataLoader(val_dataset, batch_size=parameters['batch_size'], shuffle=True)"
      ],
      "id": "W0t0NVOAXyRG"
    },
    {
      "cell_type": "markdown",
      "source": [
        "### 初始化模型\n",
        "*   載入模型（這邊會使用已經訓練過的模型，Fine-tune 我們的資料集）\n",
        "*   定義 Optimization\n",
        "  *   通常用 Adam 就可以了，你也可以換SGD之類的試看看\n",
        "  *   可以自己看需不需要加 scheduler（可以自己寫一個 function，也可以直接套用現有的function）\n",
        "  \n",
        "  ［請記得 pytorch 中是以 step 去計算，想要用 epoch 去訂定需自行換算 ］\n",
        "\n",
        "\n"
      ],
      "metadata": {
        "id": "nMZ8wEyjab68"
      },
      "id": "nMZ8wEyjab68"
    },
    {
      "cell_type": "code",
      "source": [
        "transformers.logging.set_verbosity_error() # close the warning message\n",
        "\n",
        "device = torch.device(\"cuda\" if torch.cuda.is_available() else \"cpu\")\n",
        "model = BertClassifier.from_pretrained(parameters['config'], parameters).to(device)\n",
        "loss_fct = torch.nn.CrossEntropyLoss() # we use cross entrophy loss\n",
        "\n",
        "## You can custom your optimizer (e.g. SGD .etc) ##\n",
        "# we use Adam here\n",
        "optimizer = torch.optim.Adam(model.parameters(), lr=parameters['learning_rate'], betas=(0.9, 0.999), eps=1e-9)\n",
        "\n",
        "## You also can add your custom scheduler ##\n",
        "# num_train_steps = len(train_loader) * parameters['epochs]\n",
        "# scheduler = get_cosine_schedule_with_warmup(optimizer, num_warmup_steps=int(0.1 * num_train_steps), num_training_steps=num_train_steps, num_cycles=1)"
      ],
      "metadata": {
        "colab": {
          "base_uri": "https://localhost:8080/",
          "height": 49,
          "referenced_widgets": [
            "85dadfa727544b069d4ebe0a7e06dd5b",
            "8efc237edd3b4c76b7cea099fb48fa92",
            "4160fe68060d47f482decec668c34ecf",
            "59af50f94da7438e9c716ce8bf735c59",
            "5d2d8770123d4f46b890e25893bfba35",
            "f82a5ea6dcc34c2c943d07e67efe1e59",
            "29b4609c62454c6bbb72cab031ee7447",
            "2da7af5b7f6b4df8aaf8b6c6260b9442",
            "5bfe02d68f5c45399e7458239fb98175",
            "157b80cbb3944170814162ed2f184b38",
            "afbbef3074814f5ab53b088d26a5b99f"
          ]
        },
        "id": "5D7NzvuGaZfY",
        "outputId": "f56187ce-f68c-46d0-ec1b-545fb5247f7d"
      },
      "id": "5D7NzvuGaZfY",
      "execution_count": null,
      "outputs": [
        {
          "output_type": "display_data",
          "data": {
            "text/plain": [
              "Downloading pytorch_model.bin:   0%|          | 0.00/440M [00:00<?, ?B/s]"
            ],
            "application/vnd.jupyter.widget-view+json": {
              "version_major": 2,
              "version_minor": 0,
              "model_id": "85dadfa727544b069d4ebe0a7e06dd5b"
            }
          },
          "metadata": {}
        }
      ]
    },
    {
      "cell_type": "markdown",
      "source": [
        "* 因為是做分類任務，所以這裡用 CrossEntrophyLoss\n",
        "* 由於在 pytorch 中，CrossEntrophyLoss 吃的 input 是未經 softmax 的值，所以在模型中不必加入 softmax\n",
        "* 但若在後期想取得各類別實際機率就要經過 softmax 轉換\n",
        "* logits 的數值不等於機率 ！！但一般而言，logits 中較大者會與經過 softmax 轉換後的結果一致"
      ],
      "metadata": {
        "id": "LmyDpsHc3rRN"
      },
      "id": "LmyDpsHc3rRN"
    },
    {
      "cell_type": "markdown",
      "source": [
        "* TODO6: 完成訓練\n",
        "   >可參照 evaluate() 並稍作調整以完成訓練"
      ],
      "metadata": {
        "id": "wtThctN23VIS"
      },
      "id": "wtThctN23VIS"
    },
    {
      "cell_type": "code",
      "execution_count": null,
      "metadata": {
        "colab": {
          "base_uri": "https://localhost:8080/"
        },
        "id": "BUX_aw7hXyRH",
        "outputId": "87a28ace-664d-43dc-b2d1-c2e62742a958"
      },
      "outputs": [
        {
          "output_type": "stream",
          "name": "stdout",
          "text": [
            "[epoch 1] cost time: 370.2359 s\n",
            "         loss     acc     f1      rec    prec\n",
            "train | 0.4242, 0.8077, 0.7892, 0.8225, 0.8088\n",
            "val  | 0.3077, 0.8711, 0.8664, 0.8732, 0.8738\n",
            "\n",
            "[epoch 2] cost time: 368.3872 s\n",
            "         loss     acc     f1      rec    prec\n",
            "train | 0.2593, 0.8992, 0.8919, 0.9044, 0.9001\n",
            "val  | 0.3594, 0.8555, 0.8447, 0.8661, 0.8560\n",
            "\n",
            "[epoch 3] cost time: 368.2432 s\n",
            "         loss     acc     f1      rec    prec\n",
            "train | 0.2050, 0.9310, 0.9266, 0.9384, 0.9330\n",
            "val  | 0.2831, 0.8711, 0.8554, 0.8715, 0.8606\n",
            "\n"
          ]
        }
      ],
      "source": [
        "# Start training\n",
        "import time\n",
        "metrics = ['loss', 'acc', 'f1', 'rec', 'prec']\n",
        "mode = ['train_', 'val_']\n",
        "record = {s+m :[] for s in mode for m in metrics}\n",
        "\n",
        "for epoch in range(parameters[\"epochs\"]):\n",
        "\n",
        "    st_time = time.time()\n",
        "    train_loss, train_acc, train_f1, train_rec, train_prec = 0.0, 0.0, 0.0, 0.0, 0.0\n",
        "    step_count = 0\n",
        "\n",
        "    ##########\n",
        "    # todo #\n",
        "    ##########\n",
        "\n",
        "\n",
        "    # evaluate the model performace on val data after finishing an epoch training\n",
        "    val_loss, val_acc, val_f1, val_rec, val_prec = evaluate(model, val_loader, device)\n",
        "\n",
        "    train_loss = train_loss / step_count\n",
        "    train_acc = train_acc / step_count\n",
        "    train_f1 = train_f1 / step_count\n",
        "    train_rec = train_rec / step_count\n",
        "    train_prec = train_prec / step_count\n",
        "\n",
        "    print('[epoch %d] cost time: %.4f s'%(epoch + 1, time.time() - st_time))\n",
        "    print('         loss     acc     f1      rec    prec')\n",
        "    print('train | %.4f, %.4f, %.4f, %.4f, %.4f'%(train_loss, train_acc, train_f1, train_rec, train_prec))\n",
        "    print('val  | %.4f, %.4f, %.4f, %.4f, %.4f\\n'%(val_loss, val_acc, val_f1, val_rec, val_prec))\n",
        "\n",
        "    # record training metrics of each training epoch\n",
        "    record['train_loss'].append(train_loss)\n",
        "    record['train_acc'].append(train_acc)\n",
        "    record['train_f1'].append(train_f1)\n",
        "    record['train_rec'].append(train_rec)\n",
        "    record['train_prec'].append(train_prec)\n",
        "\n",
        "    record['val_loss'].append(val_loss)\n",
        "    record['val_acc'].append(val_acc)\n",
        "    record['val_f1'].append(val_f1)\n",
        "    record['val_rec'].append(val_rec)\n",
        "    record['val_prec'].append(val_prec)"
      ],
      "id": "BUX_aw7hXyRH"
    },
    {
      "cell_type": "code",
      "execution_count": null,
      "metadata": {
        "colab": {
          "base_uri": "https://localhost:8080/"
        },
        "id": "YHTX3ycLXyRH",
        "outputId": "704c85d5-a467-4e4b-adf0-426e15fb52b2"
      },
      "outputs": [
        {
          "output_type": "stream",
          "name": "stdout",
          "text": [
            "Model saved to ==> ./bert.pt\n"
          ]
        }
      ],
      "source": [
        "# save model\n",
        "save_checkpoint('./bert.pt' , model)"
      ],
      "id": "YHTX3ycLXyRH"
    },
    {
      "cell_type": "markdown",
      "source": [
        "### 畫圖"
      ],
      "metadata": {
        "id": "RHzv2n2E5Zex"
      },
      "id": "RHzv2n2E5Zex"
    },
    {
      "cell_type": "code",
      "execution_count": null,
      "metadata": {
        "id": "HtQra69-XyRI"
      },
      "outputs": [],
      "source": [
        "# draw learning curve\n",
        "import matplotlib.pyplot as plt\n",
        "def draw_pics(record, name, img_save=False, show=False):\n",
        "    x_ticks = range(1, EPOCHS+1)\n",
        "\n",
        "    plt.figure(figsize=(6, 3))\n",
        "\n",
        "    plt.plot(x_ticks, record['train_'+name], '-o', color='lightskyblue',\n",
        "             markeredgecolor=\"teal\", markersize=3, markeredgewidth=1, label = 'Train')\n",
        "    plt.plot(x_ticks, record['val_'+name], '-o', color='pink',\n",
        "             markeredgecolor=\"salmon\", markersize=3, markeredgewidth=1, label = 'Val')\n",
        "    plt.grid(color='lightgray', linestyle='--', linewidth=1)\n",
        "\n",
        "    plt.title('Model', fontsize=14)\n",
        "    plt.ylabel(name, fontsize=12)\n",
        "    plt.xlabel('Epoch', fontsize=12)\n",
        "    plt.xticks(x_ticks, fontsize=12)\n",
        "    plt.yticks(fontsize=12)\n",
        "    plt.legend(loc='lower right' if not name.lower().endswith('loss') else 'upper right')\n",
        "\n",
        "    if img_save:\n",
        "        plt.savefig(name+'.png', transparent=False, dpi=300)\n",
        "    if show:\n",
        "        plt.show()\n",
        "\n",
        "    plt.close()"
      ],
      "id": "HtQra69-XyRI"
    },
    {
      "cell_type": "code",
      "execution_count": null,
      "metadata": {
        "colab": {
          "base_uri": "https://localhost:8080/",
          "height": 342
        },
        "id": "RKEdRFDzXyRI",
        "outputId": "035eff6f-a18a-43e7-af37-7fee89aa551d"
      },
      "outputs": [
        {
          "output_type": "display_data",
          "data": {
            "text/plain": [
              "<Figure size 600x300 with 1 Axes>"
            ],
            "image/png": "[encoded data removed]"
          },
          "metadata": {}
        }
      ],
      "source": [
        "draw_pics(record, 'loss', img_save=False, show=True)"
      ],
      "id": "RKEdRFDzXyRI"
    },
    {
      "cell_type": "code",
      "execution_count": null,
      "metadata": {
        "colab": {
          "base_uri": "https://localhost:8080/",
          "height": 342
        },
        "id": "-gjV5dGCXyRI",
        "outputId": "9c2d9a84-52be-48a8-e5c3-35d49079db40"
      },
      "outputs": [
        {
          "output_type": "display_data",
          "data": {
            "text/plain": [
              "<Figure size 600x300 with 1 Axes>"
            ],
            "image/png": "[encoded data removed]"
          },
          "metadata": {}
        }
      ],
      "source": [
        "draw_pics(record, 'acc', img_save=False, show=True)"
      ],
      "id": "-gjV5dGCXyRI"
    },
    {
      "cell_type": "code",
      "source": [
        "draw_pics(record, 'f1', img_save=False, show=True)"
      ],
      "metadata": {
        "colab": {
          "base_uri": "https://localhost:8080/",
          "height": 342
        },
        "id": "6Ej8ffuKDRwZ",
        "outputId": "9d50e567-baff-4ba1-9fa4-773f82853f40"
      },
      "id": "6Ej8ffuKDRwZ",
      "execution_count": null,
      "outputs": [
        {
          "output_type": "display_data",
          "data": {
            "text/plain": [
              "<Figure size 600x300 with 1 Axes>"
            ],
            "image/png": "[encoded data removed]"
          },
          "metadata": {}
        }
      ]
    },
    {
      "cell_type": "code",
      "source": [
        "draw_pics(record, 'rec', img_save=False, show=True)"
      ],
      "metadata": {
        "colab": {
          "base_uri": "https://localhost:8080/",
          "height": 342
        },
        "id": "F2xU_13LDlWa",
        "outputId": "89bcab8d-6f0c-4f08-9f92-7974d8cad207"
      },
      "id": "F2xU_13LDlWa",
      "execution_count": null,
      "outputs": [
        {
          "output_type": "display_data",
          "data": {
            "text/plain": [
              "<Figure size 600x300 with 1 Axes>"
            ],
            "image/png": "[encoded data removed]"
          },
          "metadata": {}
        }
      ]
    },
    {
      "cell_type": "code",
      "source": [
        "draw_pics(record, 'prec', img_save=False, show=True)"
      ],
      "metadata": {
        "colab": {
          "base_uri": "https://localhost:8080/",
          "height": 342
        },
        "id": "lNDEyPWJDgIS",
        "outputId": "3d277e25-aa00-43ab-daeb-03fbd9a65850"
      },
      "id": "lNDEyPWJDgIS",
      "execution_count": null,
      "outputs": [
        {
          "output_type": "display_data",
          "data": {
            "text/plain": [
              "<Figure size 600x300 with 1 Axes>"
            ],
            "image/png": "[encoded data removed]"
          },
          "metadata": {}
        }
      ]
    },
    {
      "cell_type": "markdown",
      "metadata": {
        "id": "A6GLT9fOXyRJ"
      },
      "source": [
        "## 預測結果"
      ],
      "id": "A6GLT9fOXyRJ"
    },
    {
      "cell_type": "markdown",
      "metadata": {
        "id": "NXV9nz2RXyRJ"
      },
      "source": [
        "預測單筆（跟評估的程式大同小異）\n",
        "\n",
        "\n"
      ],
      "id": "NXV9nz2RXyRJ"
    },
    {
      "cell_type": "code",
      "execution_count": null,
      "metadata": {
        "id": "BEjRQrsnXyRJ"
      },
      "outputs": [],
      "source": [
        "def Softmax(x):\n",
        "  return torch.exp(x) / torch.exp(x).sum()\n",
        "# label to class\n",
        "def label2class(label):\n",
        "  l2c = {0:'negative', 1:'positive'}\n",
        "  return l2c[label]"
      ],
      "id": "BEjRQrsnXyRJ"
    },
    {
      "cell_type": "markdown",
      "source": [
        "* TODO7: 完成 predict_one()"
      ],
      "metadata": {
        "id": "8xYoz3EW6m7x"
      },
      "id": "8xYoz3EW6m7x"
    },
    {
      "cell_type": "code",
      "execution_count": null,
      "metadata": {
        "id": "a4D4Z9-8XyRK"
      },
      "outputs": [],
      "source": [
        "# predict single sentence, return each-class's probability and predicted class\n",
        "def predict_one(query, model):\n",
        "\n",
        "  ##########\n",
        "  # todo #\n",
        "  ##########\n",
        "  return probs, pred\n"
      ],
      "id": "a4D4Z9-8XyRK"
    },
    {
      "cell_type": "code",
      "execution_count": null,
      "metadata": {
        "colab": {
          "base_uri": "https://localhost:8080/"
        },
        "id": "egfecB7sXyRK",
        "outputId": "f9a3fce4-ed49-4fd7-de74-9b842ef1f6a4"
      },
      "outputs": [
        {
          "output_type": "stream",
          "name": "stdout",
          "text": [
            "Model loaded from <== ./bert.pt\n"
          ]
        }
      ],
      "source": [
        "# you can load model from existing result\n",
        "device = torch.device(\"cuda\" if torch.cuda.is_available() else \"cpu\")\n",
        "init_model = BertClassifier.from_pretrained(parameters['config'], parameters) # build an initial model\n",
        "model = load_checkpoint('./bert.pt', init_model, device).to(device) # and load the weight of model from specify file"
      ],
      "id": "egfecB7sXyRK"
    },
    {
      "cell_type": "code",
      "execution_count": null,
      "metadata": {
        "colab": {
          "base_uri": "https://localhost:8080/"
        },
        "id": "0BowzmKvXyRK",
        "outputId": "7b604584-421b-467d-a168-aaedecf141c4"
      },
      "outputs": [
        {
          "output_type": "stream",
          "name": "stdout",
          "text": [
            "negative\n",
            "CPU times: user 117 ms, sys: 3 ms, total: 120 ms\n",
            "Wall time: 1.08 s\n"
          ]
        }
      ],
      "source": [
        "%%time\n",
        "probs, pred = predict_one(\"This movie doesn't attract me\", model)\n",
        "print(label2class(pred))"
      ],
      "id": "0BowzmKvXyRK"
    },
    {
      "cell_type": "markdown",
      "source": [
        "你也可以像 evaluate function一樣，把它寫成 dataloader 的形式"
      ],
      "metadata": {
        "id": "jW7WgMK-5UXJ"
      },
      "id": "jW7WgMK-5UXJ"
    },
    {
      "cell_type": "code",
      "execution_count": null,
      "metadata": {
        "id": "c0s5Da92XyRN"
      },
      "outputs": [],
      "source": [
        "# predict dataloader\n",
        "def predict(data_loader, model):\n",
        "\n",
        "  tokenizer = AutoTokenizer.from_pretrained(parameters['config'])\n",
        "  device = torch.device(\"cuda\" if torch.cuda.is_available() else \"cpu\")\n",
        "\n",
        "  total_probs, total_pred = [], []\n",
        "  loop = tqdm((data_loader), total=len(data_loader), leave=True, colour='green')\n",
        "\n",
        "  model.eval()\n",
        "  with torch.no_grad():\n",
        "    for data in loop:\n",
        "      input_ids, attention_mask, \\\n",
        "      token_type_ids = [t.to(device) for t in data]\n",
        "\n",
        "      # forward pass\n",
        "      logits = model(input_ids, attention_mask, token_type_ids)\n",
        "      probs = Softmax(logits) # get each class-probs\n",
        "      label_index = torch.argmax(probs[0], dim=0)\n",
        "      pred = label_index.item()\n",
        "\n",
        "      total_probs.append(probs)\n",
        "      total_pred.append(pred)\n",
        "\n",
        "  return total_probs, total_pred"
      ],
      "id": "c0s5Da92XyRN"
    },
    {
      "cell_type": "code",
      "execution_count": null,
      "metadata": {
        "id": "lPkXV9J5XyRN"
      },
      "outputs": [],
      "source": [
        "# load testing data\n",
        "test_df = pd.read_csv('./test.tsv', sep = '\\t')\n",
        "test_dataset = CustomDataset('test', test_df, 'text', parameters)\n",
        "test_loader = DataLoader(test_dataset, batch_size=1, shuffle=False)\n",
        "\n",
        "total_probs, total_pred = predict(test_loader, model)\n",
        "res = test_df.copy()\n",
        "# add predict class of origin file\n",
        "res['pred'] = total_pred\n",
        "\n",
        "# save result\n",
        "res.to_csv('./result.tsv', sep='\\t', index=False)"
      ],
      "id": "lPkXV9J5XyRN"
    },
    {
      "cell_type": "code",
      "source": [
        "res.head(5)"
      ],
      "metadata": {
        "colab": {
          "base_uri": "https://localhost:8080/",
          "height": 206
        },
        "id": "e8R4lQHVCBw7",
        "outputId": "56de5734-9bef-44bd-ec04-2ecc65571298"
      },
      "id": "e8R4lQHVCBw7",
      "execution_count": null,
      "outputs": [
        {
          "output_type": "execute_result",
          "data": {
            "text/plain": [
              "                                                text  label  pred\n",
              "0  Talk about a bore-snore. This 3rd rate biker f...      0     0\n",
              "1  The 1960's were a time of change and awakening...      0     1\n",
              "2  To be fair, I expected car chases in this film...      1     1\n",
              "3  I really didn't like this film~!!!! it was bor...      0     0\n",
              "4  A bit too much Mediterrenean machismo for me. ...      0     0"
            ],
            "text/html": [
              "\n",
              "  <div id=\"df-fd6f2c23-9146-4e3b-9506-fdf3e9e2f7ff\">\n",
              "    <div class=\"colab-df-container\">\n",
              "      <div>\n",
              "<style scoped>\n",
              "    .dataframe tbody tr th:only-of-type {\n",
              "        vertical-align: middle;\n",
              "    }\n",
              "\n",
              "    .dataframe tbody tr th {\n",
              "        vertical-align: top;\n",
              "    }\n",
              "\n",
              "    .dataframe thead th {\n",
              "        text-align: right;\n",
              "    }\n",
              "</style>\n",
              "<table border=\"1\" class=\"dataframe\">\n",
              "  <thead>\n",
              "    <tr style=\"text-align: right;\">\n",
              "      <th></th>\n",
              "      <th>text</th>\n",
              "      <th>label</th>\n",
              "      <th>pred</th>\n",
              "    </tr>\n",
              "  </thead>\n",
              "  <tbody>\n",
              "    <tr>\n",
              "      <th>0</th>\n",
              "      <td>Talk about a bore-snore. This 3rd rate biker f...</td>\n",
              "      <td>0</td>\n",
              "      <td>0</td>\n",
              "    </tr>\n",
              "    <tr>\n",
              "      <th>1</th>\n",
              "      <td>The 1960's were a time of change and awakening...</td>\n",
              "      <td>0</td>\n",
              "      <td>1</td>\n",
              "    </tr>\n",
              "    <tr>\n",
              "      <th>2</th>\n",
              "      <td>To be fair, I expected car chases in this film...</td>\n",
              "      <td>1</td>\n",
              "      <td>1</td>\n",
              "    </tr>\n",
              "    <tr>\n",
              "      <th>3</th>\n",
              "      <td>I really didn't like this film~!!!! it was bor...</td>\n",
              "      <td>0</td>\n",
              "      <td>0</td>\n",
              "    </tr>\n",
              "    <tr>\n",
              "      <th>4</th>\n",
              "      <td>A bit too much Mediterrenean machismo for me. ...</td>\n",
              "      <td>0</td>\n",
              "      <td>0</td>\n",
              "    </tr>\n",
              "  </tbody>\n",
              "</table>\n",
              "</div>\n",
              "      <button class=\"colab-df-convert\" onclick=\"convertToInteractive('df-fd6f2c23-9146-4e3b-9506-fdf3e9e2f7ff')\"\n",
              "              title=\"Convert this dataframe to an interactive table.\"\n",
              "              style=\"display:none;\">\n",
              "        \n",
              "  <svg xmlns=\"http://www.w3.org/2000/svg\" height=\"24px\"viewBox=\"0 0 24 24\"\n",
              "       width=\"24px\">\n",
              "    <path d=\"M0 0h24v24H0V0z\" fill=\"none\"/>\n",
              "    <path d=\"M18.56 5.44l.94 2.06.94-2.06 2.06-.94-2.06-.94-.94-2.06-.94 2.06-2.06.94zm-11 1L8.5 8.5l.94-2.06 2.06-.94-2.06-.94L8.5 2.5l-.94 2.06-2.06.94zm10 10l.94 2.06.94-2.06 2.06-.94-2.06-.94-.94-2.06-.94 2.06-2.06.94z\"/><path d=\"M17.41 7.96l-1.37-1.37c-.4-.4-.92-.59-1.43-.59-.52 0-1.04.2-1.43.59L10.3 9.45l-7.72 7.72c-.78.78-.78 2.05 0 2.83L4 21.41c.39.39.9.59 1.41.59.51 0 1.02-.2 1.41-.59l7.78-7.78 2.81-2.81c.8-.78.8-2.07 0-2.86zM5.41 20L4 18.59l7.72-7.72 1.47 1.35L5.41 20z\"/>\n",
              "  </svg>\n",
              "      </button>\n",
              "      \n",
              "  <style>\n",
              "    .colab-df-container {\n",
              "      display:flex;\n",
              "      flex-wrap:wrap;\n",
              "      gap: 12px;\n",
              "    }\n",
              "\n",
              "    .colab-df-convert {\n",
              "      background-color: #E8F0FE;\n",
              "      border: none;\n",
              "      border-radius: 50%;\n",
              "      cursor: pointer;\n",
              "      display: none;\n",
              "      fill: #1967D2;\n",
              "      height: 32px;\n",
              "      padding: 0 0 0 0;\n",
              "      width: 32px;\n",
              "    }\n",
              "\n",
              "    .colab-df-convert:hover {\n",
              "      background-color: #E2EBFA;\n",
              "      box-shadow: 0px 1px 2px rgba(60, 64, 67, 0.3), 0px 1px 3px 1px rgba(60, 64, 67, 0.15);\n",
              "      fill: #174EA6;\n",
              "    }\n",
              "\n",
              "    [theme=dark] .colab-df-convert {\n",
              "      background-color: #3B4455;\n",
              "      fill: #D2E3FC;\n",
              "    }\n",
              "\n",
              "    [theme=dark] .colab-df-convert:hover {\n",
              "      background-color: #434B5C;\n",
              "      box-shadow: 0px 1px 3px 1px rgba(0, 0, 0, 0.15);\n",
              "      filter: drop-shadow(0px 1px 2px rgba(0, 0, 0, 0.3));\n",
              "      fill: #FFFFFF;\n",
              "    }\n",
              "  </style>\n",
              "\n",
              "      <script>\n",
              "        const buttonEl =\n",
              "          document.querySelector('#df-fd6f2c23-9146-4e3b-9506-fdf3e9e2f7ff button.colab-df-convert');\n",
              "        buttonEl.style.display =\n",
              "          google.colab.kernel.accessAllowed ? 'block' : 'none';\n",
              "\n",
              "        async function convertToInteractive(key) {\n",
              "          const element = document.querySelector('#df-fd6f2c23-9146-4e3b-9506-fdf3e9e2f7ff');\n",
              "          const dataTable =\n",
              "            await google.colab.kernel.invokeFunction('convertToInteractive',\n",
              "                                                     [key], {});\n",
              "          if (!dataTable) return;\n",
              "\n",
              "          const docLinkHtml = 'Like what you see? Visit the ' +\n",
              "            '<a target=\"_blank\" href=https://colab.research.google.com/notebooks/data_table.ipynb>data table notebook</a>'\n",
              "            + ' to learn more about interactive tables.';\n",
              "          element.innerHTML = '';\n",
              "          dataTable['output_type'] = 'display_data';\n",
              "          await google.colab.output.renderOutput(dataTable, element);\n",
              "          const docLink = document.createElement('div');\n",
              "          docLink.innerHTML = docLinkHtml;\n",
              "          element.appendChild(docLink);\n",
              "        }\n",
              "      </script>\n",
              "    </div>\n",
              "  </div>\n",
              "  "
            ]
          },
          "metadata": {},
          "execution_count": 43
        }
      ]
    },
    {
      "cell_type": "code",
      "source": [
        "correct = 0\n",
        "for idx, pred in enumerate(res['pred']):\n",
        "  if pred == res['label'][idx]:\n",
        "    correct += 1\n",
        "print('test accuracy = %.4f'%(correct/len(test_df)))"
      ],
      "metadata": {
        "colab": {
          "base_uri": "https://localhost:8080/"
        },
        "id": "FDwvwbIokiq-",
        "outputId": "03f9621b-88b1-4308-dd74-758a23c06d10"
      },
      "id": "FDwvwbIokiq-",
      "execution_count": null,
      "outputs": [
        {
          "output_type": "stream",
          "name": "stdout",
          "text": [
            "test accuracy = 0.8880\n"
          ]
        }
      ]
    }
  ],
  "metadata": {
    "kernelspec": {
      "display_name": "Python 3",
      "language": "python",
      "name": "python3"
    },
    "language_info": {
      "codemirror_mode": {
        "name": "ipython",
        "version": 3
      },
      "file_extension": ".py",
      "mimetype": "text/x-python",
      "name": "python",
      "nbconvert_exporter": "python",
      "pygments_lexer": "ipython3",
      "version": "3.8.5"
    },
    "colab": {
      "provenance": [],
      "include_colab_link": true
    },
    "accelerator": "GPU",
    "gpuClass": "standard",
    "widgets": {
      "application/vnd.jupyter.widget-state+json": {
        "c707c476dbbb4c2e9c7fd1eedb4d65eb": {
          "model_module": "@jupyter-widgets/controls",
          "model_name": "HBoxModel",
          "model_module_version": "1.5.0",
          "state": {
            "_dom_classes": [],
            "_model_module": "@jupyter-widgets/controls",
            "_model_module_version": "1.5.0",
            "_model_name": "HBoxModel",
            "_view_count": null,
            "_view_module": "@jupyter-widgets/controls",
            "_view_module_version": "1.5.0",
            "_view_name": "HBoxView",
            "box_style": "",
            "children": [
              "IPY_MODEL_18882ffd62234ca2b3d66ab3199eb566",
              "IPY_MODEL_73f0980c9bca44f4aa662e4ca46572f0",
              "IPY_MODEL_2ce5426a69d44872a922fe5d5440c9ad"
            ],
            "layout": "IPY_MODEL_ff87cd8067c4497ba0839e390fd80aad"
          }
        },
        "18882ffd62234ca2b3d66ab3199eb566": {
          "model_module": "@jupyter-widgets/controls",
          "model_name": "HTMLModel",
          "model_module_version": "1.5.0",
          "state": {
            "_dom_classes": [],
            "_model_module": "@jupyter-widgets/controls",
            "_model_module_version": "1.5.0",
            "_model_name": "HTMLModel",
            "_view_count": null,
            "_view_module": "@jupyter-widgets/controls",
            "_view_module_version": "1.5.0",
            "_view_name": "HTMLView",
            "description": "",
            "description_tooltip": null,
            "layout": "IPY_MODEL_1eaadc75a74f4c4fa26c1e05cf1654fa",
            "placeholder": "​",
            "style": "IPY_MODEL_1a8ba68ddd5f4eeea74f3766f083e16f",
            "value": "100%"
          }
        },
        "73f0980c9bca44f4aa662e4ca46572f0": {
          "model_module": "@jupyter-widgets/controls",
          "model_name": "FloatProgressModel",
          "model_module_version": "1.5.0",
          "state": {
            "_dom_classes": [],
            "_model_module": "@jupyter-widgets/controls",
            "_model_module_version": "1.5.0",
            "_model_name": "FloatProgressModel",
            "_view_count": null,
            "_view_module": "@jupyter-widgets/controls",
            "_view_module_version": "1.5.0",
            "_view_name": "ProgressView",
            "bar_style": "success",
            "description": "",
            "description_tooltip": null,
            "layout": "IPY_MODEL_75fc56b2fa784385ab2a78c565211ded",
            "max": 3,
            "min": 0,
            "orientation": "horizontal",
            "style": "IPY_MODEL_1d301c7d9a62426f9a6eebd5b89e8c81",
            "value": 3
          }
        },
        "2ce5426a69d44872a922fe5d5440c9ad": {
          "model_module": "@jupyter-widgets/controls",
          "model_name": "HTMLModel",
          "model_module_version": "1.5.0",
          "state": {
            "_dom_classes": [],
            "_model_module": "@jupyter-widgets/controls",
            "_model_module_version": "1.5.0",
            "_model_name": "HTMLModel",
            "_view_count": null,
            "_view_module": "@jupyter-widgets/controls",
            "_view_module_version": "1.5.0",
            "_view_name": "HTMLView",
            "description": "",
            "description_tooltip": null,
            "layout": "IPY_MODEL_0c34a7930aff41e19d169773b2888e3c",
            "placeholder": "​",
            "style": "IPY_MODEL_638cbc56b96b43398e9ec45dd9d4a887",
            "value": " 3/3 [00:00&lt;00:00, 92.83it/s]"
          }
        },
        "ff87cd8067c4497ba0839e390fd80aad": {
          "model_module": "@jupyter-widgets/base",
          "model_name": "LayoutModel",
          "model_module_version": "1.2.0",
          "state": {
            "_model_module": "@jupyter-widgets/base",
            "_model_module_version": "1.2.0",
            "_model_name": "LayoutModel",
            "_view_count": null,
            "_view_module": "@jupyter-widgets/base",
            "_view_module_version": "1.2.0",
            "_view_name": "LayoutView",
            "align_content": null,
            "align_items": null,
            "align_self": null,
            "border": null,
            "bottom": null,
            "display": null,
            "flex": null,
            "flex_flow": null,
            "grid_area": null,
            "grid_auto_columns": null,
            "grid_auto_flow": null,
            "grid_auto_rows": null,
            "grid_column": null,
            "grid_gap": null,
            "grid_row": null,
            "grid_template_areas": null,
            "grid_template_columns": null,
            "grid_template_rows": null,
            "height": null,
            "justify_content": null,
            "justify_items": null,
            "left": null,
            "margin": null,
            "max_height": null,
            "max_width": null,
            "min_height": null,
            "min_width": null,
            "object_fit": null,
            "object_position": null,
            "order": null,
            "overflow": null,
            "overflow_x": null,
            "overflow_y": null,
            "padding": null,
            "right": null,
            "top": null,
            "visibility": null,
            "width": null
          }
        },
        "1eaadc75a74f4c4fa26c1e05cf1654fa": {
          "model_module": "@jupyter-widgets/base",
          "model_name": "LayoutModel",
          "model_module_version": "1.2.0",
          "state": {
            "_model_module": "@jupyter-widgets/base",
            "_model_module_version": "1.2.0",
            "_model_name": "LayoutModel",
            "_view_count": null,
            "_view_module": "@jupyter-widgets/base",
            "_view_module_version": "1.2.0",
            "_view_name": "LayoutView",
            "align_content": null,
            "align_items": null,
            "align_self": null,
            "border": null,
            "bottom": null,
            "display": null,
            "flex": null,
            "flex_flow": null,
            "grid_area": null,
            "grid_auto_columns": null,
            "grid_auto_flow": null,
            "grid_auto_rows": null,
            "grid_column": null,
            "grid_gap": null,
            "grid_row": null,
            "grid_template_areas": null,
            "grid_template_columns": null,
            "grid_template_rows": null,
            "height": null,
            "justify_content": null,
            "justify_items": null,
            "left": null,
            "margin": null,
            "max_height": null,
            "max_width": null,
            "min_height": null,
            "min_width": null,
            "object_fit": null,
            "object_position": null,
            "order": null,
            "overflow": null,
            "overflow_x": null,
            "overflow_y": null,
            "padding": null,
            "right": null,
            "top": null,
            "visibility": null,
            "width": null
          }
        },
        "1a8ba68ddd5f4eeea74f3766f083e16f": {
          "model_module": "@jupyter-widgets/controls",
          "model_name": "DescriptionStyleModel",
          "model_module_version": "1.5.0",
          "state": {
            "_model_module": "@jupyter-widgets/controls",
            "_model_module_version": "1.5.0",
            "_model_name": "DescriptionStyleModel",
            "_view_count": null,
            "_view_module": "@jupyter-widgets/base",
            "_view_module_version": "1.2.0",
            "_view_name": "StyleView",
            "description_width": ""
          }
        },
        "75fc56b2fa784385ab2a78c565211ded": {
          "model_module": "@jupyter-widgets/base",
          "model_name": "LayoutModel",
          "model_module_version": "1.2.0",
          "state": {
            "_model_module": "@jupyter-widgets/base",
            "_model_module_version": "1.2.0",
            "_model_name": "LayoutModel",
            "_view_count": null,
            "_view_module": "@jupyter-widgets/base",
            "_view_module_version": "1.2.0",
            "_view_name": "LayoutView",
            "align_content": null,
            "align_items": null,
            "align_self": null,
            "border": null,
            "bottom": null,
            "display": null,
            "flex": null,
            "flex_flow": null,
            "grid_area": null,
            "grid_auto_columns": null,
            "grid_auto_flow": null,
            "grid_auto_rows": null,
            "grid_column": null,
            "grid_gap": null,
            "grid_row": null,
            "grid_template_areas": null,
            "grid_template_columns": null,
            "grid_template_rows": null,
            "height": null,
            "justify_content": null,
            "justify_items": null,
            "left": null,
            "margin": null,
            "max_height": null,
            "max_width": null,
            "min_height": null,
            "min_width": null,
            "object_fit": null,
            "object_position": null,
            "order": null,
            "overflow": null,
            "overflow_x": null,
            "overflow_y": null,
            "padding": null,
            "right": null,
            "top": null,
            "visibility": null,
            "width": null
          }
        },
        "1d301c7d9a62426f9a6eebd5b89e8c81": {
          "model_module": "@jupyter-widgets/controls",
          "model_name": "ProgressStyleModel",
          "model_module_version": "1.5.0",
          "state": {
            "_model_module": "@jupyter-widgets/controls",
            "_model_module_version": "1.5.0",
            "_model_name": "ProgressStyleModel",
            "_view_count": null,
            "_view_module": "@jupyter-widgets/base",
            "_view_module_version": "1.2.0",
            "_view_name": "StyleView",
            "bar_color": null,
            "description_width": ""
          }
        },
        "0c34a7930aff41e19d169773b2888e3c": {
          "model_module": "@jupyter-widgets/base",
          "model_name": "LayoutModel",
          "model_module_version": "1.2.0",
          "state": {
            "_model_module": "@jupyter-widgets/base",
            "_model_module_version": "1.2.0",
            "_model_name": "LayoutModel",
            "_view_count": null,
            "_view_module": "@jupyter-widgets/base",
            "_view_module_version": "1.2.0",
            "_view_name": "LayoutView",
            "align_content": null,
            "align_items": null,
            "align_self": null,
            "border": null,
            "bottom": null,
            "display": null,
            "flex": null,
            "flex_flow": null,
            "grid_area": null,
            "grid_auto_columns": null,
            "grid_auto_flow": null,
            "grid_auto_rows": null,
            "grid_column": null,
            "grid_gap": null,
            "grid_row": null,
            "grid_template_areas": null,
            "grid_template_columns": null,
            "grid_template_rows": null,
            "height": null,
            "justify_content": null,
            "justify_items": null,
            "left": null,
            "margin": null,
            "max_height": null,
            "max_width": null,
            "min_height": null,
            "min_width": null,
            "object_fit": null,
            "object_position": null,
            "order": null,
            "overflow": null,
            "overflow_x": null,
            "overflow_y": null,
            "padding": null,
            "right": null,
            "top": null,
            "visibility": null,
            "width": null
          }
        },
        "638cbc56b96b43398e9ec45dd9d4a887": {
          "model_module": "@jupyter-widgets/controls",
          "model_name": "DescriptionStyleModel",
          "model_module_version": "1.5.0",
          "state": {
            "_model_module": "@jupyter-widgets/controls",
            "_model_module_version": "1.5.0",
            "_model_name": "DescriptionStyleModel",
            "_view_count": null,
            "_view_module": "@jupyter-widgets/base",
            "_view_module_version": "1.2.0",
            "_view_name": "StyleView",
            "description_width": ""
          }
        },
        "5f964809ce48437a887cbfe14a66af22": {
          "model_module": "@jupyter-widgets/controls",
          "model_name": "HBoxModel",
          "model_module_version": "1.5.0",
          "state": {
            "_dom_classes": [],
            "_model_module": "@jupyter-widgets/controls",
            "_model_module_version": "1.5.0",
            "_model_name": "HBoxModel",
            "_view_count": null,
            "_view_module": "@jupyter-widgets/controls",
            "_view_module_version": "1.5.0",
            "_view_name": "HBoxView",
            "box_style": "",
            "children": [
              "IPY_MODEL_91a62fb0f73745fb80db1d377e32cdd4",
              "IPY_MODEL_77fb1652fd744facbbed9b8a23be8457",
              "IPY_MODEL_31407c3417e946969edc1594d32e23bf"
            ],
            "layout": "IPY_MODEL_e0d6a278f5ca4506bb129824e9ce2617"
          }
        },
        "91a62fb0f73745fb80db1d377e32cdd4": {
          "model_module": "@jupyter-widgets/controls",
          "model_name": "HTMLModel",
          "model_module_version": "1.5.0",
          "state": {
            "_dom_classes": [],
            "_model_module": "@jupyter-widgets/controls",
            "_model_module_version": "1.5.0",
            "_model_name": "HTMLModel",
            "_view_count": null,
            "_view_module": "@jupyter-widgets/controls",
            "_view_module_version": "1.5.0",
            "_view_name": "HTMLView",
            "description": "",
            "description_tooltip": null,
            "layout": "IPY_MODEL_52057265ba9242d487b28eae01a34067",
            "placeholder": "​",
            "style": "IPY_MODEL_8b475f04a8b64db0b096da99dc401bd6",
            "value": "Downloading (…)okenizer_config.json: 100%"
          }
        },
        "77fb1652fd744facbbed9b8a23be8457": {
          "model_module": "@jupyter-widgets/controls",
          "model_name": "FloatProgressModel",
          "model_module_version": "1.5.0",
          "state": {
            "_dom_classes": [],
            "_model_module": "@jupyter-widgets/controls",
            "_model_module_version": "1.5.0",
            "_model_name": "FloatProgressModel",
            "_view_count": null,
            "_view_module": "@jupyter-widgets/controls",
            "_view_module_version": "1.5.0",
            "_view_name": "ProgressView",
            "bar_style": "success",
            "description": "",
            "description_tooltip": null,
            "layout": "IPY_MODEL_f3b87fc4cbae49049e0834f01843352b",
            "max": 28,
            "min": 0,
            "orientation": "horizontal",
            "style": "IPY_MODEL_0b67ce1810584a8084e4f3afc9332bda",
            "value": 28
          }
        },
        "31407c3417e946969edc1594d32e23bf": {
          "model_module": "@jupyter-widgets/controls",
          "model_name": "HTMLModel",
          "model_module_version": "1.5.0",
          "state": {
            "_dom_classes": [],
            "_model_module": "@jupyter-widgets/controls",
            "_model_module_version": "1.5.0",
            "_model_name": "HTMLModel",
            "_view_count": null,
            "_view_module": "@jupyter-widgets/controls",
            "_view_module_version": "1.5.0",
            "_view_name": "HTMLView",
            "description": "",
            "description_tooltip": null,
            "layout": "IPY_MODEL_3bcfaf0108064bb9b5f04d2c781de8c1",
            "placeholder": "​",
            "style": "IPY_MODEL_917141f226a5439ab8870072cdce72da",
            "value": " 28.0/28.0 [00:00&lt;00:00, 1.05kB/s]"
          }
        },
        "e0d6a278f5ca4506bb129824e9ce2617": {
          "model_module": "@jupyter-widgets/base",
          "model_name": "LayoutModel",
          "model_module_version": "1.2.0",
          "state": {
            "_model_module": "@jupyter-widgets/base",
            "_model_module_version": "1.2.0",
            "_model_name": "LayoutModel",
            "_view_count": null,
            "_view_module": "@jupyter-widgets/base",
            "_view_module_version": "1.2.0",
            "_view_name": "LayoutView",
            "align_content": null,
            "align_items": null,
            "align_self": null,
            "border": null,
            "bottom": null,
            "display": null,
            "flex": null,
            "flex_flow": null,
            "grid_area": null,
            "grid_auto_columns": null,
            "grid_auto_flow": null,
            "grid_auto_rows": null,
            "grid_column": null,
            "grid_gap": null,
            "grid_row": null,
            "grid_template_areas": null,
            "grid_template_columns": null,
            "grid_template_rows": null,
            "height": null,
            "justify_content": null,
            "justify_items": null,
            "left": null,
            "margin": null,
            "max_height": null,
            "max_width": null,
            "min_height": null,
            "min_width": null,
            "object_fit": null,
            "object_position": null,
            "order": null,
            "overflow": null,
            "overflow_x": null,
            "overflow_y": null,
            "padding": null,
            "right": null,
            "top": null,
            "visibility": null,
            "width": null
          }
        },
        "52057265ba9242d487b28eae01a34067": {
          "model_module": "@jupyter-widgets/base",
          "model_name": "LayoutModel",
          "model_module_version": "1.2.0",
          "state": {
            "_model_module": "@jupyter-widgets/base",
            "_model_module_version": "1.2.0",
            "_model_name": "LayoutModel",
            "_view_count": null,
            "_view_module": "@jupyter-widgets/base",
            "_view_module_version": "1.2.0",
            "_view_name": "LayoutView",
            "align_content": null,
            "align_items": null,
            "align_self": null,
            "border": null,
            "bottom": null,
            "display": null,
            "flex": null,
            "flex_flow": null,
            "grid_area": null,
            "grid_auto_columns": null,
            "grid_auto_flow": null,
            "grid_auto_rows": null,
            "grid_column": null,
            "grid_gap": null,
            "grid_row": null,
            "grid_template_areas": null,
            "grid_template_columns": null,
            "grid_template_rows": null,
            "height": null,
            "justify_content": null,
            "justify_items": null,
            "left": null,
            "margin": null,
            "max_height": null,
            "max_width": null,
            "min_height": null,
            "min_width": null,
            "object_fit": null,
            "object_position": null,
            "order": null,
            "overflow": null,
            "overflow_x": null,
            "overflow_y": null,
            "padding": null,
            "right": null,
            "top": null,
            "visibility": null,
            "width": null
          }
        },
        "8b475f04a8b64db0b096da99dc401bd6": {
          "model_module": "@jupyter-widgets/controls",
          "model_name": "DescriptionStyleModel",
          "model_module_version": "1.5.0",
          "state": {
            "_model_module": "@jupyter-widgets/controls",
            "_model_module_version": "1.5.0",
            "_model_name": "DescriptionStyleModel",
            "_view_count": null,
            "_view_module": "@jupyter-widgets/base",
            "_view_module_version": "1.2.0",
            "_view_name": "StyleView",
            "description_width": ""
          }
        },
        "f3b87fc4cbae49049e0834f01843352b": {
          "model_module": "@jupyter-widgets/base",
          "model_name": "LayoutModel",
          "model_module_version": "1.2.0",
          "state": {
            "_model_module": "@jupyter-widgets/base",
            "_model_module_version": "1.2.0",
            "_model_name": "LayoutModel",
            "_view_count": null,
            "_view_module": "@jupyter-widgets/base",
            "_view_module_version": "1.2.0",
            "_view_name": "LayoutView",
            "align_content": null,
            "align_items": null,
            "align_self": null,
            "border": null,
            "bottom": null,
            "display": null,
            "flex": null,
            "flex_flow": null,
            "grid_area": null,
            "grid_auto_columns": null,
            "grid_auto_flow": null,
            "grid_auto_rows": null,
            "grid_column": null,
            "grid_gap": null,
            "grid_row": null,
            "grid_template_areas": null,
            "grid_template_columns": null,
            "grid_template_rows": null,
            "height": null,
            "justify_content": null,
            "justify_items": null,
            "left": null,
            "margin": null,
            "max_height": null,
            "max_width": null,
            "min_height": null,
            "min_width": null,
            "object_fit": null,
            "object_position": null,
            "order": null,
            "overflow": null,
            "overflow_x": null,
            "overflow_y": null,
            "padding": null,
            "right": null,
            "top": null,
            "visibility": null,
            "width": null
          }
        },
        "0b67ce1810584a8084e4f3afc9332bda": {
          "model_module": "@jupyter-widgets/controls",
          "model_name": "ProgressStyleModel",
          "model_module_version": "1.5.0",
          "state": {
            "_model_module": "@jupyter-widgets/controls",
            "_model_module_version": "1.5.0",
            "_model_name": "ProgressStyleModel",
            "_view_count": null,
            "_view_module": "@jupyter-widgets/base",
            "_view_module_version": "1.2.0",
            "_view_name": "StyleView",
            "bar_color": null,
            "description_width": ""
          }
        },
        "3bcfaf0108064bb9b5f04d2c781de8c1": {
          "model_module": "@jupyter-widgets/base",
          "model_name": "LayoutModel",
          "model_module_version": "1.2.0",
          "state": {
            "_model_module": "@jupyter-widgets/base",
            "_model_module_version": "1.2.0",
            "_model_name": "LayoutModel",
            "_view_count": null,
            "_view_module": "@jupyter-widgets/base",
            "_view_module_version": "1.2.0",
            "_view_name": "LayoutView",
            "align_content": null,
            "align_items": null,
            "align_self": null,
            "border": null,
            "bottom": null,
            "display": null,
            "flex": null,
            "flex_flow": null,
            "grid_area": null,
            "grid_auto_columns": null,
            "grid_auto_flow": null,
            "grid_auto_rows": null,
            "grid_column": null,
            "grid_gap": null,
            "grid_row": null,
            "grid_template_areas": null,
            "grid_template_columns": null,
            "grid_template_rows": null,
            "height": null,
            "justify_content": null,
            "justify_items": null,
            "left": null,
            "margin": null,
            "max_height": null,
            "max_width": null,
            "min_height": null,
            "min_width": null,
            "object_fit": null,
            "object_position": null,
            "order": null,
            "overflow": null,
            "overflow_x": null,
            "overflow_y": null,
            "padding": null,
            "right": null,
            "top": null,
            "visibility": null,
            "width": null
          }
        },
        "917141f226a5439ab8870072cdce72da": {
          "model_module": "@jupyter-widgets/controls",
          "model_name": "DescriptionStyleModel",
          "model_module_version": "1.5.0",
          "state": {
            "_model_module": "@jupyter-widgets/controls",
            "_model_module_version": "1.5.0",
            "_model_name": "DescriptionStyleModel",
            "_view_count": null,
            "_view_module": "@jupyter-widgets/base",
            "_view_module_version": "1.2.0",
            "_view_name": "StyleView",
            "description_width": ""
          }
        },
        "0b9b98dd20b34fbeafad4b33549c8c75": {
          "model_module": "@jupyter-widgets/controls",
          "model_name": "HBoxModel",
          "model_module_version": "1.5.0",
          "state": {
            "_dom_classes": [],
            "_model_module": "@jupyter-widgets/controls",
            "_model_module_version": "1.5.0",
            "_model_name": "HBoxModel",
            "_view_count": null,
            "_view_module": "@jupyter-widgets/controls",
            "_view_module_version": "1.5.0",
            "_view_name": "HBoxView",
            "box_style": "",
            "children": [
              "IPY_MODEL_aca68689f12344a6883c03df3cbf8c6e",
              "IPY_MODEL_47176d6d235d49d49be5aac90f4ba7a1",
              "IPY_MODEL_24793b6a3f744df98cd39d9d73834051"
            ],
            "layout": "IPY_MODEL_60ce46c153dc45ad98e4825141f7a1f7"
          }
        },
        "aca68689f12344a6883c03df3cbf8c6e": {
          "model_module": "@jupyter-widgets/controls",
          "model_name": "HTMLModel",
          "model_module_version": "1.5.0",
          "state": {
            "_dom_classes": [],
            "_model_module": "@jupyter-widgets/controls",
            "_model_module_version": "1.5.0",
            "_model_name": "HTMLModel",
            "_view_count": null,
            "_view_module": "@jupyter-widgets/controls",
            "_view_module_version": "1.5.0",
            "_view_name": "HTMLView",
            "description": "",
            "description_tooltip": null,
            "layout": "IPY_MODEL_6e4919189cfd46789dce044a39ad4e46",
            "placeholder": "​",
            "style": "IPY_MODEL_b15185d68cd24f98b9a4d5b0e42e75e7",
            "value": "Downloading (…)lve/main/config.json: 100%"
          }
        },
        "47176d6d235d49d49be5aac90f4ba7a1": {
          "model_module": "@jupyter-widgets/controls",
          "model_name": "FloatProgressModel",
          "model_module_version": "1.5.0",
          "state": {
            "_dom_classes": [],
            "_model_module": "@jupyter-widgets/controls",
            "_model_module_version": "1.5.0",
            "_model_name": "FloatProgressModel",
            "_view_count": null,
            "_view_module": "@jupyter-widgets/controls",
            "_view_module_version": "1.5.0",
            "_view_name": "ProgressView",
            "bar_style": "success",
            "description": "",
            "description_tooltip": null,
            "layout": "IPY_MODEL_318c84f3612a4353ac8b4a3f78f0e74d",
            "max": 570,
            "min": 0,
            "orientation": "horizontal",
            "style": "IPY_MODEL_b2f32e5cbdba4a90bf81a9daf94f31d5",
            "value": 570
          }
        },
        "24793b6a3f744df98cd39d9d73834051": {
          "model_module": "@jupyter-widgets/controls",
          "model_name": "HTMLModel",
          "model_module_version": "1.5.0",
          "state": {
            "_dom_classes": [],
            "_model_module": "@jupyter-widgets/controls",
            "_model_module_version": "1.5.0",
            "_model_name": "HTMLModel",
            "_view_count": null,
            "_view_module": "@jupyter-widgets/controls",
            "_view_module_version": "1.5.0",
            "_view_name": "HTMLView",
            "description": "",
            "description_tooltip": null,
            "layout": "IPY_MODEL_66eece2aed00420ba514b970ab9aa1c8",
            "placeholder": "​",
            "style": "IPY_MODEL_5d099322ff2142d6b0904799dd099e54",
            "value": " 570/570 [00:00&lt;00:00, 18.3kB/s]"
          }
        },
        "60ce46c153dc45ad98e4825141f7a1f7": {
          "model_module": "@jupyter-widgets/base",
          "model_name": "LayoutModel",
          "model_module_version": "1.2.0",
          "state": {
            "_model_module": "@jupyter-widgets/base",
            "_model_module_version": "1.2.0",
            "_model_name": "LayoutModel",
            "_view_count": null,
            "_view_module": "@jupyter-widgets/base",
            "_view_module_version": "1.2.0",
            "_view_name": "LayoutView",
            "align_content": null,
            "align_items": null,
            "align_self": null,
            "border": null,
            "bottom": null,
            "display": null,
            "flex": null,
            "flex_flow": null,
            "grid_area": null,
            "grid_auto_columns": null,
            "grid_auto_flow": null,
            "grid_auto_rows": null,
            "grid_column": null,
            "grid_gap": null,
            "grid_row": null,
            "grid_template_areas": null,
            "grid_template_columns": null,
            "grid_template_rows": null,
            "height": null,
            "justify_content": null,
            "justify_items": null,
            "left": null,
            "margin": null,
            "max_height": null,
            "max_width": null,
            "min_height": null,
            "min_width": null,
            "object_fit": null,
            "object_position": null,
            "order": null,
            "overflow": null,
            "overflow_x": null,
            "overflow_y": null,
            "padding": null,
            "right": null,
            "top": null,
            "visibility": null,
            "width": null
          }
        },
        "6e4919189cfd46789dce044a39ad4e46": {
          "model_module": "@jupyter-widgets/base",
          "model_name": "LayoutModel",
          "model_module_version": "1.2.0",
          "state": {
            "_model_module": "@jupyter-widgets/base",
            "_model_module_version": "1.2.0",
            "_model_name": "LayoutModel",
            "_view_count": null,
            "_view_module": "@jupyter-widgets/base",
            "_view_module_version": "1.2.0",
            "_view_name": "LayoutView",
            "align_content": null,
            "align_items": null,
            "align_self": null,
            "border": null,
            "bottom": null,
            "display": null,
            "flex": null,
            "flex_flow": null,
            "grid_area": null,
            "grid_auto_columns": null,
            "grid_auto_flow": null,
            "grid_auto_rows": null,
            "grid_column": null,
            "grid_gap": null,
            "grid_row": null,
            "grid_template_areas": null,
            "grid_template_columns": null,
            "grid_template_rows": null,
            "height": null,
            "justify_content": null,
            "justify_items": null,
            "left": null,
            "margin": null,
            "max_height": null,
            "max_width": null,
            "min_height": null,
            "min_width": null,
            "object_fit": null,
            "object_position": null,
            "order": null,
            "overflow": null,
            "overflow_x": null,
            "overflow_y": null,
            "padding": null,
            "right": null,
            "top": null,
            "visibility": null,
            "width": null
          }
        },
        "b15185d68cd24f98b9a4d5b0e42e75e7": {
          "model_module": "@jupyter-widgets/controls",
          "model_name": "DescriptionStyleModel",
          "model_module_version": "1.5.0",
          "state": {
            "_model_module": "@jupyter-widgets/controls",
            "_model_module_version": "1.5.0",
            "_model_name": "DescriptionStyleModel",
            "_view_count": null,
            "_view_module": "@jupyter-widgets/base",
            "_view_module_version": "1.2.0",
            "_view_name": "StyleView",
            "description_width": ""
          }
        },
        "318c84f3612a4353ac8b4a3f78f0e74d": {
          "model_module": "@jupyter-widgets/base",
          "model_name": "LayoutModel",
          "model_module_version": "1.2.0",
          "state": {
            "_model_module": "@jupyter-widgets/base",
            "_model_module_version": "1.2.0",
            "_model_name": "LayoutModel",
            "_view_count": null,
            "_view_module": "@jupyter-widgets/base",
            "_view_module_version": "1.2.0",
            "_view_name": "LayoutView",
            "align_content": null,
            "align_items": null,
            "align_self": null,
            "border": null,
            "bottom": null,
            "display": null,
            "flex": null,
            "flex_flow": null,
            "grid_area": null,
            "grid_auto_columns": null,
            "grid_auto_flow": null,
            "grid_auto_rows": null,
            "grid_column": null,
            "grid_gap": null,
            "grid_row": null,
            "grid_template_areas": null,
            "grid_template_columns": null,
            "grid_template_rows": null,
            "height": null,
            "justify_content": null,
            "justify_items": null,
            "left": null,
            "margin": null,
            "max_height": null,
            "max_width": null,
            "min_height": null,
            "min_width": null,
            "object_fit": null,
            "object_position": null,
            "order": null,
            "overflow": null,
            "overflow_x": null,
            "overflow_y": null,
            "padding": null,
            "right": null,
            "top": null,
            "visibility": null,
            "width": null
          }
        },
        "b2f32e5cbdba4a90bf81a9daf94f31d5": {
          "model_module": "@jupyter-widgets/controls",
          "model_name": "ProgressStyleModel",
          "model_module_version": "1.5.0",
          "state": {
            "_model_module": "@jupyter-widgets/controls",
            "_model_module_version": "1.5.0",
            "_model_name": "ProgressStyleModel",
            "_view_count": null,
            "_view_module": "@jupyter-widgets/base",
            "_view_module_version": "1.2.0",
            "_view_name": "StyleView",
            "bar_color": null,
            "description_width": ""
          }
        },
        "66eece2aed00420ba514b970ab9aa1c8": {
          "model_module": "@jupyter-widgets/base",
          "model_name": "LayoutModel",
          "model_module_version": "1.2.0",
          "state": {
            "_model_module": "@jupyter-widgets/base",
            "_model_module_version": "1.2.0",
            "_model_name": "LayoutModel",
            "_view_count": null,
            "_view_module": "@jupyter-widgets/base",
            "_view_module_version": "1.2.0",
            "_view_name": "LayoutView",
            "align_content": null,
            "align_items": null,
            "align_self": null,
            "border": null,
            "bottom": null,
            "display": null,
            "flex": null,
            "flex_flow": null,
            "grid_area": null,
            "grid_auto_columns": null,
            "grid_auto_flow": null,
            "grid_auto_rows": null,
            "grid_column": null,
            "grid_gap": null,
            "grid_row": null,
            "grid_template_areas": null,
            "grid_template_columns": null,
            "grid_template_rows": null,
            "height": null,
            "justify_content": null,
            "justify_items": null,
            "left": null,
            "margin": null,
            "max_height": null,
            "max_width": null,
            "min_height": null,
            "min_width": null,
            "object_fit": null,
            "object_position": null,
            "order": null,
            "overflow": null,
            "overflow_x": null,
            "overflow_y": null,
            "padding": null,
            "right": null,
            "top": null,
            "visibility": null,
            "width": null
          }
        },
        "5d099322ff2142d6b0904799dd099e54": {
          "model_module": "@jupyter-widgets/controls",
          "model_name": "DescriptionStyleModel",
          "model_module_version": "1.5.0",
          "state": {
            "_model_module": "@jupyter-widgets/controls",
            "_model_module_version": "1.5.0",
            "_model_name": "DescriptionStyleModel",
            "_view_count": null,
            "_view_module": "@jupyter-widgets/base",
            "_view_module_version": "1.2.0",
            "_view_name": "StyleView",
            "description_width": ""
          }
        },
        "63ee62d39e1c450987eef3171e1cdfb0": {
          "model_module": "@jupyter-widgets/controls",
          "model_name": "HBoxModel",
          "model_module_version": "1.5.0",
          "state": {
            "_dom_classes": [],
            "_model_module": "@jupyter-widgets/controls",
            "_model_module_version": "1.5.0",
            "_model_name": "HBoxModel",
            "_view_count": null,
            "_view_module": "@jupyter-widgets/controls",
            "_view_module_version": "1.5.0",
            "_view_name": "HBoxView",
            "box_style": "",
            "children": [
              "IPY_MODEL_de66e4686eef45a4a76f4e170c722d9a",
              "IPY_MODEL_f8efa2ff06fa4ab6b4876dfbf028e540",
              "IPY_MODEL_404e383ede1f4bd29b468bcc269f85a6"
            ],
            "layout": "IPY_MODEL_38625ce8b6bd44bfba2092e07fe2b0b2"
          }
        },
        "de66e4686eef45a4a76f4e170c722d9a": {
          "model_module": "@jupyter-widgets/controls",
          "model_name": "HTMLModel",
          "model_module_version": "1.5.0",
          "state": {
            "_dom_classes": [],
            "_model_module": "@jupyter-widgets/controls",
            "_model_module_version": "1.5.0",
            "_model_name": "HTMLModel",
            "_view_count": null,
            "_view_module": "@jupyter-widgets/controls",
            "_view_module_version": "1.5.0",
            "_view_name": "HTMLView",
            "description": "",
            "description_tooltip": null,
            "layout": "IPY_MODEL_00c93a139acb4feb85635fe3f4cead4c",
            "placeholder": "​",
            "style": "IPY_MODEL_ffb9250eea254625b2c596531ea24af3",
            "value": "Downloading (…)solve/main/vocab.txt: 100%"
          }
        },
        "f8efa2ff06fa4ab6b4876dfbf028e540": {
          "model_module": "@jupyter-widgets/controls",
          "model_name": "FloatProgressModel",
          "model_module_version": "1.5.0",
          "state": {
            "_dom_classes": [],
            "_model_module": "@jupyter-widgets/controls",
            "_model_module_version": "1.5.0",
            "_model_name": "FloatProgressModel",
            "_view_count": null,
            "_view_module": "@jupyter-widgets/controls",
            "_view_module_version": "1.5.0",
            "_view_name": "ProgressView",
            "bar_style": "success",
            "description": "",
            "description_tooltip": null,
            "layout": "IPY_MODEL_d6bec500c4394f8c954d4e4211862125",
            "max": 231508,
            "min": 0,
            "orientation": "horizontal",
            "style": "IPY_MODEL_ce8014d718a04403b7772e2c0b968edd",
            "value": 231508
          }
        },
        "404e383ede1f4bd29b468bcc269f85a6": {
          "model_module": "@jupyter-widgets/controls",
          "model_name": "HTMLModel",
          "model_module_version": "1.5.0",
          "state": {
            "_dom_classes": [],
            "_model_module": "@jupyter-widgets/controls",
            "_model_module_version": "1.5.0",
            "_model_name": "HTMLModel",
            "_view_count": null,
            "_view_module": "@jupyter-widgets/controls",
            "_view_module_version": "1.5.0",
            "_view_name": "HTMLView",
            "description": "",
            "description_tooltip": null,
            "layout": "IPY_MODEL_2a94f50ac63e452aa39dda6ed6de4835",
            "placeholder": "​",
            "style": "IPY_MODEL_541dfb5b2cbe44688e557ba5383b1cb0",
            "value": " 232k/232k [00:00&lt;00:00, 330kB/s]"
          }
        },
        "38625ce8b6bd44bfba2092e07fe2b0b2": {
          "model_module": "@jupyter-widgets/base",
          "model_name": "LayoutModel",
          "model_module_version": "1.2.0",
          "state": {
            "_model_module": "@jupyter-widgets/base",
            "_model_module_version": "1.2.0",
            "_model_name": "LayoutModel",
            "_view_count": null,
            "_view_module": "@jupyter-widgets/base",
            "_view_module_version": "1.2.0",
            "_view_name": "LayoutView",
            "align_content": null,
            "align_items": null,
            "align_self": null,
            "border": null,
            "bottom": null,
            "display": null,
            "flex": null,
            "flex_flow": null,
            "grid_area": null,
            "grid_auto_columns": null,
            "grid_auto_flow": null,
            "grid_auto_rows": null,
            "grid_column": null,
            "grid_gap": null,
            "grid_row": null,
            "grid_template_areas": null,
            "grid_template_columns": null,
            "grid_template_rows": null,
            "height": null,
            "justify_content": null,
            "justify_items": null,
            "left": null,
            "margin": null,
            "max_height": null,
            "max_width": null,
            "min_height": null,
            "min_width": null,
            "object_fit": null,
            "object_position": null,
            "order": null,
            "overflow": null,
            "overflow_x": null,
            "overflow_y": null,
            "padding": null,
            "right": null,
            "top": null,
            "visibility": null,
            "width": null
          }
        },
        "00c93a139acb4feb85635fe3f4cead4c": {
          "model_module": "@jupyter-widgets/base",
          "model_name": "LayoutModel",
          "model_module_version": "1.2.0",
          "state": {
            "_model_module": "@jupyter-widgets/base",
            "_model_module_version": "1.2.0",
            "_model_name": "LayoutModel",
            "_view_count": null,
            "_view_module": "@jupyter-widgets/base",
            "_view_module_version": "1.2.0",
            "_view_name": "LayoutView",
            "align_content": null,
            "align_items": null,
            "align_self": null,
            "border": null,
            "bottom": null,
            "display": null,
            "flex": null,
            "flex_flow": null,
            "grid_area": null,
            "grid_auto_columns": null,
            "grid_auto_flow": null,
            "grid_auto_rows": null,
            "grid_column": null,
            "grid_gap": null,
            "grid_row": null,
            "grid_template_areas": null,
            "grid_template_columns": null,
            "grid_template_rows": null,
            "height": null,
            "justify_content": null,
            "justify_items": null,
            "left": null,
            "margin": null,
            "max_height": null,
            "max_width": null,
            "min_height": null,
            "min_width": null,
            "object_fit": null,
            "object_position": null,
            "order": null,
            "overflow": null,
            "overflow_x": null,
            "overflow_y": null,
            "padding": null,
            "right": null,
            "top": null,
            "visibility": null,
            "width": null
          }
        },
        "ffb9250eea254625b2c596531ea24af3": {
          "model_module": "@jupyter-widgets/controls",
          "model_name": "DescriptionStyleModel",
          "model_module_version": "1.5.0",
          "state": {
            "_model_module": "@jupyter-widgets/controls",
            "_model_module_version": "1.5.0",
            "_model_name": "DescriptionStyleModel",
            "_view_count": null,
            "_view_module": "@jupyter-widgets/base",
            "_view_module_version": "1.2.0",
            "_view_name": "StyleView",
            "description_width": ""
          }
        },
        "d6bec500c4394f8c954d4e4211862125": {
          "model_module": "@jupyter-widgets/base",
          "model_name": "LayoutModel",
          "model_module_version": "1.2.0",
          "state": {
            "_model_module": "@jupyter-widgets/base",
            "_model_module_version": "1.2.0",
            "_model_name": "LayoutModel",
            "_view_count": null,
            "_view_module": "@jupyter-widgets/base",
            "_view_module_version": "1.2.0",
            "_view_name": "LayoutView",
            "align_content": null,
            "align_items": null,
            "align_self": null,
            "border": null,
            "bottom": null,
            "display": null,
            "flex": null,
            "flex_flow": null,
            "grid_area": null,
            "grid_auto_columns": null,
            "grid_auto_flow": null,
            "grid_auto_rows": null,
            "grid_column": null,
            "grid_gap": null,
            "grid_row": null,
            "grid_template_areas": null,
            "grid_template_columns": null,
            "grid_template_rows": null,
            "height": null,
            "justify_content": null,
            "justify_items": null,
            "left": null,
            "margin": null,
            "max_height": null,
            "max_width": null,
            "min_height": null,
            "min_width": null,
            "object_fit": null,
            "object_position": null,
            "order": null,
            "overflow": null,
            "overflow_x": null,
            "overflow_y": null,
            "padding": null,
            "right": null,
            "top": null,
            "visibility": null,
            "width": null
          }
        },
        "ce8014d718a04403b7772e2c0b968edd": {
          "model_module": "@jupyter-widgets/controls",
          "model_name": "ProgressStyleModel",
          "model_module_version": "1.5.0",
          "state": {
            "_model_module": "@jupyter-widgets/controls",
            "_model_module_version": "1.5.0",
            "_model_name": "ProgressStyleModel",
            "_view_count": null,
            "_view_module": "@jupyter-widgets/base",
            "_view_module_version": "1.2.0",
            "_view_name": "StyleView",
            "bar_color": null,
            "description_width": ""
          }
        },
        "2a94f50ac63e452aa39dda6ed6de4835": {
          "model_module": "@jupyter-widgets/base",
          "model_name": "LayoutModel",
          "model_module_version": "1.2.0",
          "state": {
            "_model_module": "@jupyter-widgets/base",
            "_model_module_version": "1.2.0",
            "_model_name": "LayoutModel",
            "_view_count": null,
            "_view_module": "@jupyter-widgets/base",
            "_view_module_version": "1.2.0",
            "_view_name": "LayoutView",
            "align_content": null,
            "align_items": null,
            "align_self": null,
            "border": null,
            "bottom": null,
            "display": null,
            "flex": null,
            "flex_flow": null,
            "grid_area": null,
            "grid_auto_columns": null,
            "grid_auto_flow": null,
            "grid_auto_rows": null,
            "grid_column": null,
            "grid_gap": null,
            "grid_row": null,
            "grid_template_areas": null,
            "grid_template_columns": null,
            "grid_template_rows": null,
            "height": null,
            "justify_content": null,
            "justify_items": null,
            "left": null,
            "margin": null,
            "max_height": null,
            "max_width": null,
            "min_height": null,
            "min_width": null,
            "object_fit": null,
            "object_position": null,
            "order": null,
            "overflow": null,
            "overflow_x": null,
            "overflow_y": null,
            "padding": null,
            "right": null,
            "top": null,
            "visibility": null,
            "width": null
          }
        },
        "541dfb5b2cbe44688e557ba5383b1cb0": {
          "model_module": "@jupyter-widgets/controls",
          "model_name": "DescriptionStyleModel",
          "model_module_version": "1.5.0",
          "state": {
            "_model_module": "@jupyter-widgets/controls",
            "_model_module_version": "1.5.0",
            "_model_name": "DescriptionStyleModel",
            "_view_count": null,
            "_view_module": "@jupyter-widgets/base",
            "_view_module_version": "1.2.0",
            "_view_name": "StyleView",
            "description_width": ""
          }
        },
        "58e7b8dbabe54304b9c099107c26636c": {
          "model_module": "@jupyter-widgets/controls",
          "model_name": "HBoxModel",
          "model_module_version": "1.5.0",
          "state": {
            "_dom_classes": [],
            "_model_module": "@jupyter-widgets/controls",
            "_model_module_version": "1.5.0",
            "_model_name": "HBoxModel",
            "_view_count": null,
            "_view_module": "@jupyter-widgets/controls",
            "_view_module_version": "1.5.0",
            "_view_name": "HBoxView",
            "box_style": "",
            "children": [
              "IPY_MODEL_bfb52e0aa1514290a9cb3960b118ff3d",
              "IPY_MODEL_5149fdd1f551405bab6e35e9c126fa9d",
              "IPY_MODEL_11f652db904e4a3d9099f107a0970913"
            ],
            "layout": "IPY_MODEL_403085f73c494e909cc11d98e41d63eb"
          }
        },
        "bfb52e0aa1514290a9cb3960b118ff3d": {
          "model_module": "@jupyter-widgets/controls",
          "model_name": "HTMLModel",
          "model_module_version": "1.5.0",
          "state": {
            "_dom_classes": [],
            "_model_module": "@jupyter-widgets/controls",
            "_model_module_version": "1.5.0",
            "_model_name": "HTMLModel",
            "_view_count": null,
            "_view_module": "@jupyter-widgets/controls",
            "_view_module_version": "1.5.0",
            "_view_name": "HTMLView",
            "description": "",
            "description_tooltip": null,
            "layout": "IPY_MODEL_50e908f22cfe4693b2a7726dca5939ec",
            "placeholder": "​",
            "style": "IPY_MODEL_00d1c5e673df47158259b5d3d6a340a4",
            "value": "Downloading (…)/main/tokenizer.json: 100%"
          }
        },
        "5149fdd1f551405bab6e35e9c126fa9d": {
          "model_module": "@jupyter-widgets/controls",
          "model_name": "FloatProgressModel",
          "model_module_version": "1.5.0",
          "state": {
            "_dom_classes": [],
            "_model_module": "@jupyter-widgets/controls",
            "_model_module_version": "1.5.0",
            "_model_name": "FloatProgressModel",
            "_view_count": null,
            "_view_module": "@jupyter-widgets/controls",
            "_view_module_version": "1.5.0",
            "_view_name": "ProgressView",
            "bar_style": "success",
            "description": "",
            "description_tooltip": null,
            "layout": "IPY_MODEL_69220d4b77d240d9a285ee6e64dc56c0",
            "max": 466062,
            "min": 0,
            "orientation": "horizontal",
            "style": "IPY_MODEL_e3039a327f8b4781b7ce5172d79a8b7e",
            "value": 466062
          }
        },
        "11f652db904e4a3d9099f107a0970913": {
          "model_module": "@jupyter-widgets/controls",
          "model_name": "HTMLModel",
          "model_module_version": "1.5.0",
          "state": {
            "_dom_classes": [],
            "_model_module": "@jupyter-widgets/controls",
            "_model_module_version": "1.5.0",
            "_model_name": "HTMLModel",
            "_view_count": null,
            "_view_module": "@jupyter-widgets/controls",
            "_view_module_version": "1.5.0",
            "_view_name": "HTMLView",
            "description": "",
            "description_tooltip": null,
            "layout": "IPY_MODEL_28e1d33522bd41f98e9d294c5adfacab",
            "placeholder": "​",
            "style": "IPY_MODEL_9f7c751a9c374fe2aeb5c68e5237e9b8",
            "value": " 466k/466k [00:00&lt;00:00, 500kB/s]"
          }
        },
        "403085f73c494e909cc11d98e41d63eb": {
          "model_module": "@jupyter-widgets/base",
          "model_name": "LayoutModel",
          "model_module_version": "1.2.0",
          "state": {
            "_model_module": "@jupyter-widgets/base",
            "_model_module_version": "1.2.0",
            "_model_name": "LayoutModel",
            "_view_count": null,
            "_view_module": "@jupyter-widgets/base",
            "_view_module_version": "1.2.0",
            "_view_name": "LayoutView",
            "align_content": null,
            "align_items": null,
            "align_self": null,
            "border": null,
            "bottom": null,
            "display": null,
            "flex": null,
            "flex_flow": null,
            "grid_area": null,
            "grid_auto_columns": null,
            "grid_auto_flow": null,
            "grid_auto_rows": null,
            "grid_column": null,
            "grid_gap": null,
            "grid_row": null,
            "grid_template_areas": null,
            "grid_template_columns": null,
            "grid_template_rows": null,
            "height": null,
            "justify_content": null,
            "justify_items": null,
            "left": null,
            "margin": null,
            "max_height": null,
            "max_width": null,
            "min_height": null,
            "min_width": null,
            "object_fit": null,
            "object_position": null,
            "order": null,
            "overflow": null,
            "overflow_x": null,
            "overflow_y": null,
            "padding": null,
            "right": null,
            "top": null,
            "visibility": null,
            "width": null
          }
        },
        "50e908f22cfe4693b2a7726dca5939ec": {
          "model_module": "@jupyter-widgets/base",
          "model_name": "LayoutModel",
          "model_module_version": "1.2.0",
          "state": {
            "_model_module": "@jupyter-widgets/base",
            "_model_module_version": "1.2.0",
            "_model_name": "LayoutModel",
            "_view_count": null,
            "_view_module": "@jupyter-widgets/base",
            "_view_module_version": "1.2.0",
            "_view_name": "LayoutView",
            "align_content": null,
            "align_items": null,
            "align_self": null,
            "border": null,
            "bottom": null,
            "display": null,
            "flex": null,
            "flex_flow": null,
            "grid_area": null,
            "grid_auto_columns": null,
            "grid_auto_flow": null,
            "grid_auto_rows": null,
            "grid_column": null,
            "grid_gap": null,
            "grid_row": null,
            "grid_template_areas": null,
            "grid_template_columns": null,
            "grid_template_rows": null,
            "height": null,
            "justify_content": null,
            "justify_items": null,
            "left": null,
            "margin": null,
            "max_height": null,
            "max_width": null,
            "min_height": null,
            "min_width": null,
            "object_fit": null,
            "object_position": null,
            "order": null,
            "overflow": null,
            "overflow_x": null,
            "overflow_y": null,
            "padding": null,
            "right": null,
            "top": null,
            "visibility": null,
            "width": null
          }
        },
        "00d1c5e673df47158259b5d3d6a340a4": {
          "model_module": "@jupyter-widgets/controls",
          "model_name": "DescriptionStyleModel",
          "model_module_version": "1.5.0",
          "state": {
            "_model_module": "@jupyter-widgets/controls",
            "_model_module_version": "1.5.0",
            "_model_name": "DescriptionStyleModel",
            "_view_count": null,
            "_view_module": "@jupyter-widgets/base",
            "_view_module_version": "1.2.0",
            "_view_name": "StyleView",
            "description_width": ""
          }
        },
        "69220d4b77d240d9a285ee6e64dc56c0": {
          "model_module": "@jupyter-widgets/base",
          "model_name": "LayoutModel",
          "model_module_version": "1.2.0",
          "state": {
            "_model_module": "@jupyter-widgets/base",
            "_model_module_version": "1.2.0",
            "_model_name": "LayoutModel",
            "_view_count": null,
            "_view_module": "@jupyter-widgets/base",
            "_view_module_version": "1.2.0",
            "_view_name": "LayoutView",
            "align_content": null,
            "align_items": null,
            "align_self": null,
            "border": null,
            "bottom": null,
            "display": null,
            "flex": null,
            "flex_flow": null,
            "grid_area": null,
            "grid_auto_columns": null,
            "grid_auto_flow": null,
            "grid_auto_rows": null,
            "grid_column": null,
            "grid_gap": null,
            "grid_row": null,
            "grid_template_areas": null,
            "grid_template_columns": null,
            "grid_template_rows": null,
            "height": null,
            "justify_content": null,
            "justify_items": null,
            "left": null,
            "margin": null,
            "max_height": null,
            "max_width": null,
            "min_height": null,
            "min_width": null,
            "object_fit": null,
            "object_position": null,
            "order": null,
            "overflow": null,
            "overflow_x": null,
            "overflow_y": null,
            "padding": null,
            "right": null,
            "top": null,
            "visibility": null,
            "width": null
          }
        },
        "e3039a327f8b4781b7ce5172d79a8b7e": {
          "model_module": "@jupyter-widgets/controls",
          "model_name": "ProgressStyleModel",
          "model_module_version": "1.5.0",
          "state": {
            "_model_module": "@jupyter-widgets/controls",
            "_model_module_version": "1.5.0",
            "_model_name": "ProgressStyleModel",
            "_view_count": null,
            "_view_module": "@jupyter-widgets/base",
            "_view_module_version": "1.2.0",
            "_view_name": "StyleView",
            "bar_color": null,
            "description_width": ""
          }
        },
        "28e1d33522bd41f98e9d294c5adfacab": {
          "model_module": "@jupyter-widgets/base",
          "model_name": "LayoutModel",
          "model_module_version": "1.2.0",
          "state": {
            "_model_module": "@jupyter-widgets/base",
            "_model_module_version": "1.2.0",
            "_model_name": "LayoutModel",
            "_view_count": null,
            "_view_module": "@jupyter-widgets/base",
            "_view_module_version": "1.2.0",
            "_view_name": "LayoutView",
            "align_content": null,
            "align_items": null,
            "align_self": null,
            "border": null,
            "bottom": null,
            "display": null,
            "flex": null,
            "flex_flow": null,
            "grid_area": null,
            "grid_auto_columns": null,
            "grid_auto_flow": null,
            "grid_auto_rows": null,
            "grid_column": null,
            "grid_gap": null,
            "grid_row": null,
            "grid_template_areas": null,
            "grid_template_columns": null,
            "grid_template_rows": null,
            "height": null,
            "justify_content": null,
            "justify_items": null,
            "left": null,
            "margin": null,
            "max_height": null,
            "max_width": null,
            "min_height": null,
            "min_width": null,
            "object_fit": null,
            "object_position": null,
            "order": null,
            "overflow": null,
            "overflow_x": null,
            "overflow_y": null,
            "padding": null,
            "right": null,
            "top": null,
            "visibility": null,
            "width": null
          }
        },
        "9f7c751a9c374fe2aeb5c68e5237e9b8": {
          "model_module": "@jupyter-widgets/controls",
          "model_name": "DescriptionStyleModel",
          "model_module_version": "1.5.0",
          "state": {
            "_model_module": "@jupyter-widgets/controls",
            "_model_module_version": "1.5.0",
            "_model_name": "DescriptionStyleModel",
            "_view_count": null,
            "_view_module": "@jupyter-widgets/base",
            "_view_module_version": "1.2.0",
            "_view_name": "StyleView",
            "description_width": ""
          }
        },
        "85dadfa727544b069d4ebe0a7e06dd5b": {
          "model_module": "@jupyter-widgets/controls",
          "model_name": "HBoxModel",
          "model_module_version": "1.5.0",
          "state": {
            "_dom_classes": [],
            "_model_module": "@jupyter-widgets/controls",
            "_model_module_version": "1.5.0",
            "_model_name": "HBoxModel",
            "_view_count": null,
            "_view_module": "@jupyter-widgets/controls",
            "_view_module_version": "1.5.0",
            "_view_name": "HBoxView",
            "box_style": "",
            "children": [
              "IPY_MODEL_8efc237edd3b4c76b7cea099fb48fa92",
              "IPY_MODEL_4160fe68060d47f482decec668c34ecf",
              "IPY_MODEL_59af50f94da7438e9c716ce8bf735c59"
            ],
            "layout": "IPY_MODEL_5d2d8770123d4f46b890e25893bfba35"
          }
        },
        "8efc237edd3b4c76b7cea099fb48fa92": {
          "model_module": "@jupyter-widgets/controls",
          "model_name": "HTMLModel",
          "model_module_version": "1.5.0",
          "state": {
            "_dom_classes": [],
            "_model_module": "@jupyter-widgets/controls",
            "_model_module_version": "1.5.0",
            "_model_name": "HTMLModel",
            "_view_count": null,
            "_view_module": "@jupyter-widgets/controls",
            "_view_module_version": "1.5.0",
            "_view_name": "HTMLView",
            "description": "",
            "description_tooltip": null,
            "layout": "IPY_MODEL_f82a5ea6dcc34c2c943d07e67efe1e59",
            "placeholder": "​",
            "style": "IPY_MODEL_29b4609c62454c6bbb72cab031ee7447",
            "value": "Downloading pytorch_model.bin: 100%"
          }
        },
        "4160fe68060d47f482decec668c34ecf": {
          "model_module": "@jupyter-widgets/controls",
          "model_name": "FloatProgressModel",
          "model_module_version": "1.5.0",
          "state": {
            "_dom_classes": [],
            "_model_module": "@jupyter-widgets/controls",
            "_model_module_version": "1.5.0",
            "_model_name": "FloatProgressModel",
            "_view_count": null,
            "_view_module": "@jupyter-widgets/controls",
            "_view_module_version": "1.5.0",
            "_view_name": "ProgressView",
            "bar_style": "success",
            "description": "",
            "description_tooltip": null,
            "layout": "IPY_MODEL_2da7af5b7f6b4df8aaf8b6c6260b9442",
            "max": 440473133,
            "min": 0,
            "orientation": "horizontal",
            "style": "IPY_MODEL_5bfe02d68f5c45399e7458239fb98175",
            "value": 440473133
          }
        },
        "59af50f94da7438e9c716ce8bf735c59": {
          "model_module": "@jupyter-widgets/controls",
          "model_name": "HTMLModel",
          "model_module_version": "1.5.0",
          "state": {
            "_dom_classes": [],
            "_model_module": "@jupyter-widgets/controls",
            "_model_module_version": "1.5.0",
            "_model_name": "HTMLModel",
            "_view_count": null,
            "_view_module": "@jupyter-widgets/controls",
            "_view_module_version": "1.5.0",
            "_view_name": "HTMLView",
            "description": "",
            "description_tooltip": null,
            "layout": "IPY_MODEL_157b80cbb3944170814162ed2f184b38",
            "placeholder": "​",
            "style": "IPY_MODEL_afbbef3074814f5ab53b088d26a5b99f",
            "value": " 440M/440M [00:05&lt;00:00, 79.6MB/s]"
          }
        },
        "5d2d8770123d4f46b890e25893bfba35": {
          "model_module": "@jupyter-widgets/base",
          "model_name": "LayoutModel",
          "model_module_version": "1.2.0",
          "state": {
            "_model_module": "@jupyter-widgets/base",
            "_model_module_version": "1.2.0",
            "_model_name": "LayoutModel",
            "_view_count": null,
            "_view_module": "@jupyter-widgets/base",
            "_view_module_version": "1.2.0",
            "_view_name": "LayoutView",
            "align_content": null,
            "align_items": null,
            "align_self": null,
            "border": null,
            "bottom": null,
            "display": null,
            "flex": null,
            "flex_flow": null,
            "grid_area": null,
            "grid_auto_columns": null,
            "grid_auto_flow": null,
            "grid_auto_rows": null,
            "grid_column": null,
            "grid_gap": null,
            "grid_row": null,
            "grid_template_areas": null,
            "grid_template_columns": null,
            "grid_template_rows": null,
            "height": null,
            "justify_content": null,
            "justify_items": null,
            "left": null,
            "margin": null,
            "max_height": null,
            "max_width": null,
            "min_height": null,
            "min_width": null,
            "object_fit": null,
            "object_position": null,
            "order": null,
            "overflow": null,
            "overflow_x": null,
            "overflow_y": null,
            "padding": null,
            "right": null,
            "top": null,
            "visibility": null,
            "width": null
          }
        },
        "f82a5ea6dcc34c2c943d07e67efe1e59": {
          "model_module": "@jupyter-widgets/base",
          "model_name": "LayoutModel",
          "model_module_version": "1.2.0",
          "state": {
            "_model_module": "@jupyter-widgets/base",
            "_model_module_version": "1.2.0",
            "_model_name": "LayoutModel",
            "_view_count": null,
            "_view_module": "@jupyter-widgets/base",
            "_view_module_version": "1.2.0",
            "_view_name": "LayoutView",
            "align_content": null,
            "align_items": null,
            "align_self": null,
            "border": null,
            "bottom": null,
            "display": null,
            "flex": null,
            "flex_flow": null,
            "grid_area": null,
            "grid_auto_columns": null,
            "grid_auto_flow": null,
            "grid_auto_rows": null,
            "grid_column": null,
            "grid_gap": null,
            "grid_row": null,
            "grid_template_areas": null,
            "grid_template_columns": null,
            "grid_template_rows": null,
            "height": null,
            "justify_content": null,
            "justify_items": null,
            "left": null,
            "margin": null,
            "max_height": null,
            "max_width": null,
            "min_height": null,
            "min_width": null,
            "object_fit": null,
            "object_position": null,
            "order": null,
            "overflow": null,
            "overflow_x": null,
            "overflow_y": null,
            "padding": null,
            "right": null,
            "top": null,
            "visibility": null,
            "width": null
          }
        },
        "29b4609c62454c6bbb72cab031ee7447": {
          "model_module": "@jupyter-widgets/controls",
          "model_name": "DescriptionStyleModel",
          "model_module_version": "1.5.0",
          "state": {
            "_model_module": "@jupyter-widgets/controls",
            "_model_module_version": "1.5.0",
            "_model_name": "DescriptionStyleModel",
            "_view_count": null,
            "_view_module": "@jupyter-widgets/base",
            "_view_module_version": "1.2.0",
            "_view_name": "StyleView",
            "description_width": ""
          }
        },
        "2da7af5b7f6b4df8aaf8b6c6260b9442": {
          "model_module": "@jupyter-widgets/base",
          "model_name": "LayoutModel",
          "model_module_version": "1.2.0",
          "state": {
            "_model_module": "@jupyter-widgets/base",
            "_model_module_version": "1.2.0",
            "_model_name": "LayoutModel",
            "_view_count": null,
            "_view_module": "@jupyter-widgets/base",
            "_view_module_version": "1.2.0",
            "_view_name": "LayoutView",
            "align_content": null,
            "align_items": null,
            "align_self": null,
            "border": null,
            "bottom": null,
            "display": null,
            "flex": null,
            "flex_flow": null,
            "grid_area": null,
            "grid_auto_columns": null,
            "grid_auto_flow": null,
            "grid_auto_rows": null,
            "grid_column": null,
            "grid_gap": null,
            "grid_row": null,
            "grid_template_areas": null,
            "grid_template_columns": null,
            "grid_template_rows": null,
            "height": null,
            "justify_content": null,
            "justify_items": null,
            "left": null,
            "margin": null,
            "max_height": null,
            "max_width": null,
            "min_height": null,
            "min_width": null,
            "object_fit": null,
            "object_position": null,
            "order": null,
            "overflow": null,
            "overflow_x": null,
            "overflow_y": null,
            "padding": null,
            "right": null,
            "top": null,
            "visibility": null,
            "width": null
          }
        },
        "5bfe02d68f5c45399e7458239fb98175": {
          "model_module": "@jupyter-widgets/controls",
          "model_name": "ProgressStyleModel",
          "model_module_version": "1.5.0",
          "state": {
            "_model_module": "@jupyter-widgets/controls",
            "_model_module_version": "1.5.0",
            "_model_name": "ProgressStyleModel",
            "_view_count": null,
            "_view_module": "@jupyter-widgets/base",
            "_view_module_version": "1.2.0",
            "_view_name": "StyleView",
            "bar_color": null,
            "description_width": ""
          }
        },
        "157b80cbb3944170814162ed2f184b38": {
          "model_module": "@jupyter-widgets/base",
          "model_name": "LayoutModel",
          "model_module_version": "1.2.0",
          "state": {
            "_model_module": "@jupyter-widgets/base",
            "_model_module_version": "1.2.0",
            "_model_name": "LayoutModel",
            "_view_count": null,
            "_view_module": "@jupyter-widgets/base",
            "_view_module_version": "1.2.0",
            "_view_name": "LayoutView",
            "align_content": null,
            "align_items": null,
            "align_self": null,
            "border": null,
            "bottom": null,
            "display": null,
            "flex": null,
            "flex_flow": null,
            "grid_area": null,
            "grid_auto_columns": null,
            "grid_auto_flow": null,
            "grid_auto_rows": null,
            "grid_column": null,
            "grid_gap": null,
            "grid_row": null,
            "grid_template_areas": null,
            "grid_template_columns": null,
            "grid_template_rows": null,
            "height": null,
            "justify_content": null,
            "justify_items": null,
            "left": null,
            "margin": null,
            "max_height": null,
            "max_width": null,
            "min_height": null,
            "min_width": null,
            "object_fit": null,
            "object_position": null,
            "order": null,
            "overflow": null,
            "overflow_x": null,
            "overflow_y": null,
            "padding": null,
            "right": null,
            "top": null,
            "visibility": null,
            "width": null
          }
        },
        "afbbef3074814f5ab53b088d26a5b99f": {
          "model_module": "@jupyter-widgets/controls",
          "model_name": "DescriptionStyleModel",
          "model_module_version": "1.5.0",
          "state": {
            "_model_module": "@jupyter-widgets/controls",
            "_model_module_version": "1.5.0",
            "_model_name": "DescriptionStyleModel",
            "_view_count": null,
            "_view_module": "@jupyter-widgets/base",
            "_view_module_version": "1.2.0",
            "_view_name": "StyleView",
            "description_width": ""
          }
        }
      }
    }
  },
  "nbformat": 4,
  "nbformat_minor": 5
}